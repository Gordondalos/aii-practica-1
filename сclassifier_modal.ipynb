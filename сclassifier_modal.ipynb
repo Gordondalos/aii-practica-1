{
 "cells": [
  {
   "cell_type": "code",
   "execution_count": null,
   "metadata": {
    "collapsed": true
   },
   "outputs": [],
   "source": []
  },
  {
   "cell_type": "code",
   "execution_count": 1,
   "outputs": [
    {
     "name": "stdout",
     "output_type": "stream",
     "text": [
      "Using matplotlib backend: <object object at 0x7f985673f4d0>\n"
     ]
    }
   ],
   "source": [
    "import PIL\n",
    "import matplotlib\n",
    "%matplotlib\n",
    "%matplotlib inline\n",
    "import matplotlib.pyplot as plt\n",
    "import os\n",
    "from PIL import Image\n",
    "import cv2\n",
    "import numpy as np\n",
    "import pandas as pd\n",
    "from tkinter import *\n",
    "from PIL import Image, ImageTk"
   ],
   "metadata": {
    "collapsed": false
   }
  },
  {
   "cell_type": "code",
   "execution_count": 64,
   "outputs": [],
   "source": [],
   "metadata": {
    "collapsed": false
   }
  },
  {
   "cell_type": "code",
   "execution_count": 138,
   "outputs": [],
   "source": [
    "def button_click_handler(result, image_url, dataFrame, window):\n",
    "    # Обработка выбранной опции и сохранение результата в датафрейме\n",
    "    # Закрытие окна\n",
    "    print(result)\n",
    "    print(image_url)\n",
    "    dataFrame.loc[dataFrame['file_name'] == image_url, 'destination'] = result\n",
    "    dataFrame.to_csv(f'df_with_human_classification.csv', index=False)\n",
    "    window.destroy()\n",
    "\n"
   ],
   "metadata": {
    "collapsed": false
   }
  },
  {
   "cell_type": "code",
   "execution_count": 139,
   "outputs": [],
   "source": [
    "from tkinter import *\n",
    "from PIL import Image, ImageTk\n",
    "from tkinter import Tk as tkinter"
   ],
   "metadata": {
    "collapsed": false
   }
  },
  {
   "cell_type": "code",
   "execution_count": 140,
   "outputs": [],
   "source": [
    "def show_image_by_url(url, w=2, h=2):\n",
    "    image = cv2.imread(url)\n",
    "    image = cv2.cvtColor(image, cv2.COLOR_BGR2RGB)  # преобразование порядка цветов\n",
    "    plt.figure(figsize=(w,h))\n",
    "    plt.grid(False)\n",
    "    plt.imshow(image)\n",
    "    plt.show()"
   ],
   "metadata": {
    "collapsed": false
   }
  },
  {
   "cell_type": "code",
   "execution_count": 141,
   "outputs": [],
   "source": [
    "def show_modal_window(image_url, dataFrame):\n",
    "    # Загрузка изображения по URL\n",
    "    image = cv2.imread(image_url)\n",
    "    image = cv2.cvtColor(image, cv2.COLOR_BGR2RGB)\n",
    "    image = image.resize((300, 300))\n",
    "\n",
    "    # Создание окна\n",
    "    window = Tk()\n",
    "    window.title(\"Выберите опцию\")\n",
    "    image1 = Image.open(image_url)\n",
    "    test = ImageTk.PhotoImage(image1)\n",
    "\n",
    "    label1 = Label( image=test)\n",
    "    label1.image = test\n",
    "    # label1.config(width=300, height=200)\n",
    "\n",
    "    label1.pack()\n",
    "\n",
    "    # Добавление двух кнопок\n",
    "    # 0 - входящий\n",
    "    # 1 - выходящий\n",
    "    # 2- нейтральный - охрана\n",
    "    option1_button = Button(window, text=\"Входящий\", command=lambda: button_click_handler(0, image_url, dataFrame, window))\n",
    "    option2_button = Button(window, text=\"Выходящий\", command=lambda: button_click_handler(1, image_url, dataFrame, window))\n",
    "    option3_button = Button(window, text=\"Нейтральный\", command=lambda: button_click_handler(2, image_url, dataFrame, window))\n",
    "    option1_button.pack(side=\"left\", padx=10)\n",
    "    option2_button.pack(side=\"right\", padx=10)\n",
    "    option3_button.pack(side=\"bottom\", padx=10)\n",
    "\n",
    "    # Ожидание закрытия окна\n",
    "    window.grab_set()\n",
    "    window.wait_window()"
   ],
   "metadata": {
    "collapsed": false
   }
  },
  {
   "cell_type": "code",
   "execution_count": 142,
   "outputs": [
    {
     "data": {
      "text/plain": "                                     file_name  center_x  center_y  \\\n0                         ./crop/146-7Ie64.jpg     771.0     670.5   \n1                         ./crop/235-fGvT6.jpg     769.0     671.0   \n2                         ./crop/235-fqlHz.jpg    1015.5     779.5   \n3                         ./crop/240-8ln0T.jpg    1009.0     790.0   \n4                         ./crop/240-OUrBm.jpg     526.5     505.5   \n5                         ./crop/240-gb0OM.jpg     771.0     642.0   \n6   ./crop/photo_2023-02-19_20-05-10-F8wGA.jpg     572.5     732.0   \n7   ./crop/photo_2023-02-19_20-05-10-HRH3C.jpg     929.0     672.0   \n8   ./crop/photo_2023-02-19_20-05-10-RcfVn.jpg     719.5     553.0   \n9   ./crop/photo_2023-02-19_20-05-10-1vopC.jpg    1184.5     679.5   \n10                       ./crop/4113-YLavo.jpg     636.5     618.5   \n11                       ./crop/4154-JzSJl.jpg     567.0     531.0   \n12                       ./crop/4154-VGer6.jpg     326.0     551.0   \n13                       ./crop/4154-9diIv.jpg     918.0     809.0   \n14                       ./crop/5936-SYhlw.jpg     594.5     512.5   \n\n              a            b            c            d     x    y     w    h  \\\n0   1021.768687  1021.768687  1021.768687  1021.768687   614  426   928  915   \n1   1020.589046  1020.589046  1020.589046  1020.589046   621  428   917  914   \n2   1280.179870  1280.179870  1280.179870  1280.179870   809  562  1222  997   \n3   1281.476102  1281.476102  1281.476102  1281.476102   800  586  1218  994   \n4    729.885265   729.885265   729.885265   729.885265   478  306   575  705   \n5   1003.297065  1003.297065  1003.297065  1003.297065   670  383   872  901   \n6    929.290186   929.290186   929.290186   929.290186   428  470   717  994   \n7   1146.570975  1146.570975  1146.570975  1146.570975   744  456  1114  888   \n8    907.463085   907.463085   907.463085   907.463085   627  358   812  748   \n9   1365.562338  1365.562338  1365.562338  1365.562338  1092  500  1277  859   \n10   887.510282   887.510282   887.510282   887.510282   503  344   770  893   \n11   776.820443   776.820443   776.820443   776.820443   463  282   671  780   \n12   640.216370   640.216370   640.216370   640.216370   272  345   380  757   \n13  1223.603285  1223.603285  1223.603285  1223.603285   753  692  1083  926   \n14   784.911778   784.911778   784.911778   784.911778   472  283   717  742   \n\n        ssim        pnsr         mse  histDitance  n_hamming_distance  \\\n0   1.000000  361.201999    0.000000            0            0.000000   \n1   0.311351   11.330808   94.511098         2227            0.250000   \n2   0.094204    7.901086  104.959246       108342            0.359375   \n3   0.347007   13.520446   76.196863        19269            0.171875   \n4   0.077399    5.521044  100.053804       131033            0.437500   \n5   0.054860    7.770194  104.716861         9188            0.296875   \n6   0.148078    9.480103  103.684226        19378            0.296875   \n7   0.204965   10.393167   99.779854        11484            0.421875   \n8   0.249501   10.937183  102.657827         9669            0.390625   \n9   0.172884   11.166467  103.379076        47445            0.234375   \n10  0.141345    7.815327  105.281628        49528            0.500000   \n11  0.372216   10.585498   96.538664         4769            0.265625   \n12  0.309536    8.124209  103.734692        19451            0.421875   \n13  0.160676    6.872732  102.929334         3149            0.640625   \n14  0.251367    8.709424  104.703272         3108            0.468750   \n\n                    hash  hashPercent  \\\n0     520557060207937283     100.0000   \n1   13254625746208720000      75.0000   \n2   17941484261677207584      64.0625   \n3   17940362622378582080      82.8125   \n4   18438792680545912623      56.2500   \n5   17855519922285938308      70.3125   \n6   18446603886186758279      70.3125   \n7   18444897033496049776      57.8125   \n8   18446673618009063424      60.9375   \n9    9221550725950078976      76.5625   \n10  16682179096141758401      50.0000   \n11  16123872380333426631      73.4375   \n12    542551554962551288      57.8125   \n13  18300642002909463299      35.9375   \n14  18429581826894270223      53.1250   \n\n                              previous_cropUrl  \n0                         ./crop/221-qbSWs.jpg  \n1                         ./crop/221-qbSWs.jpg  \n2                         ./crop/235-fGvT6.jpg  \n3                         ./crop/235-fqlHz.jpg  \n4                         ./crop/240-8ln0T.jpg  \n5                         ./crop/240-OUrBm.jpg  \n6                         ./crop/240-gb0OM.jpg  \n7   ./crop/photo_2023-02-19_20-05-10-F8wGA.jpg  \n8   ./crop/photo_2023-02-19_20-05-10-HRH3C.jpg  \n9   ./crop/photo_2023-02-19_20-05-10-RcfVn.jpg  \n10  ./crop/photo_2023-02-19_20-05-10-1vopC.jpg  \n11                       ./crop/4113-YLavo.jpg  \n12                       ./crop/4154-JzSJl.jpg  \n13                       ./crop/4154-VGer6.jpg  \n14                       ./crop/4154-9diIv.jpg  ",
      "text/html": "<div>\n<style scoped>\n    .dataframe tbody tr th:only-of-type {\n        vertical-align: middle;\n    }\n\n    .dataframe tbody tr th {\n        vertical-align: top;\n    }\n\n    .dataframe thead th {\n        text-align: right;\n    }\n</style>\n<table border=\"1\" class=\"dataframe\">\n  <thead>\n    <tr style=\"text-align: right;\">\n      <th></th>\n      <th>file_name</th>\n      <th>center_x</th>\n      <th>center_y</th>\n      <th>a</th>\n      <th>b</th>\n      <th>c</th>\n      <th>d</th>\n      <th>x</th>\n      <th>y</th>\n      <th>w</th>\n      <th>h</th>\n      <th>ssim</th>\n      <th>pnsr</th>\n      <th>mse</th>\n      <th>histDitance</th>\n      <th>n_hamming_distance</th>\n      <th>hash</th>\n      <th>hashPercent</th>\n      <th>previous_cropUrl</th>\n    </tr>\n  </thead>\n  <tbody>\n    <tr>\n      <th>0</th>\n      <td>./crop/146-7Ie64.jpg</td>\n      <td>771.0</td>\n      <td>670.5</td>\n      <td>1021.768687</td>\n      <td>1021.768687</td>\n      <td>1021.768687</td>\n      <td>1021.768687</td>\n      <td>614</td>\n      <td>426</td>\n      <td>928</td>\n      <td>915</td>\n      <td>1.000000</td>\n      <td>361.201999</td>\n      <td>0.000000</td>\n      <td>0</td>\n      <td>0.000000</td>\n      <td>520557060207937283</td>\n      <td>100.0000</td>\n      <td>./crop/221-qbSWs.jpg</td>\n    </tr>\n    <tr>\n      <th>1</th>\n      <td>./crop/235-fGvT6.jpg</td>\n      <td>769.0</td>\n      <td>671.0</td>\n      <td>1020.589046</td>\n      <td>1020.589046</td>\n      <td>1020.589046</td>\n      <td>1020.589046</td>\n      <td>621</td>\n      <td>428</td>\n      <td>917</td>\n      <td>914</td>\n      <td>0.311351</td>\n      <td>11.330808</td>\n      <td>94.511098</td>\n      <td>2227</td>\n      <td>0.250000</td>\n      <td>13254625746208720000</td>\n      <td>75.0000</td>\n      <td>./crop/221-qbSWs.jpg</td>\n    </tr>\n    <tr>\n      <th>2</th>\n      <td>./crop/235-fqlHz.jpg</td>\n      <td>1015.5</td>\n      <td>779.5</td>\n      <td>1280.179870</td>\n      <td>1280.179870</td>\n      <td>1280.179870</td>\n      <td>1280.179870</td>\n      <td>809</td>\n      <td>562</td>\n      <td>1222</td>\n      <td>997</td>\n      <td>0.094204</td>\n      <td>7.901086</td>\n      <td>104.959246</td>\n      <td>108342</td>\n      <td>0.359375</td>\n      <td>17941484261677207584</td>\n      <td>64.0625</td>\n      <td>./crop/235-fGvT6.jpg</td>\n    </tr>\n    <tr>\n      <th>3</th>\n      <td>./crop/240-8ln0T.jpg</td>\n      <td>1009.0</td>\n      <td>790.0</td>\n      <td>1281.476102</td>\n      <td>1281.476102</td>\n      <td>1281.476102</td>\n      <td>1281.476102</td>\n      <td>800</td>\n      <td>586</td>\n      <td>1218</td>\n      <td>994</td>\n      <td>0.347007</td>\n      <td>13.520446</td>\n      <td>76.196863</td>\n      <td>19269</td>\n      <td>0.171875</td>\n      <td>17940362622378582080</td>\n      <td>82.8125</td>\n      <td>./crop/235-fqlHz.jpg</td>\n    </tr>\n    <tr>\n      <th>4</th>\n      <td>./crop/240-OUrBm.jpg</td>\n      <td>526.5</td>\n      <td>505.5</td>\n      <td>729.885265</td>\n      <td>729.885265</td>\n      <td>729.885265</td>\n      <td>729.885265</td>\n      <td>478</td>\n      <td>306</td>\n      <td>575</td>\n      <td>705</td>\n      <td>0.077399</td>\n      <td>5.521044</td>\n      <td>100.053804</td>\n      <td>131033</td>\n      <td>0.437500</td>\n      <td>18438792680545912623</td>\n      <td>56.2500</td>\n      <td>./crop/240-8ln0T.jpg</td>\n    </tr>\n    <tr>\n      <th>5</th>\n      <td>./crop/240-gb0OM.jpg</td>\n      <td>771.0</td>\n      <td>642.0</td>\n      <td>1003.297065</td>\n      <td>1003.297065</td>\n      <td>1003.297065</td>\n      <td>1003.297065</td>\n      <td>670</td>\n      <td>383</td>\n      <td>872</td>\n      <td>901</td>\n      <td>0.054860</td>\n      <td>7.770194</td>\n      <td>104.716861</td>\n      <td>9188</td>\n      <td>0.296875</td>\n      <td>17855519922285938308</td>\n      <td>70.3125</td>\n      <td>./crop/240-OUrBm.jpg</td>\n    </tr>\n    <tr>\n      <th>6</th>\n      <td>./crop/photo_2023-02-19_20-05-10-F8wGA.jpg</td>\n      <td>572.5</td>\n      <td>732.0</td>\n      <td>929.290186</td>\n      <td>929.290186</td>\n      <td>929.290186</td>\n      <td>929.290186</td>\n      <td>428</td>\n      <td>470</td>\n      <td>717</td>\n      <td>994</td>\n      <td>0.148078</td>\n      <td>9.480103</td>\n      <td>103.684226</td>\n      <td>19378</td>\n      <td>0.296875</td>\n      <td>18446603886186758279</td>\n      <td>70.3125</td>\n      <td>./crop/240-gb0OM.jpg</td>\n    </tr>\n    <tr>\n      <th>7</th>\n      <td>./crop/photo_2023-02-19_20-05-10-HRH3C.jpg</td>\n      <td>929.0</td>\n      <td>672.0</td>\n      <td>1146.570975</td>\n      <td>1146.570975</td>\n      <td>1146.570975</td>\n      <td>1146.570975</td>\n      <td>744</td>\n      <td>456</td>\n      <td>1114</td>\n      <td>888</td>\n      <td>0.204965</td>\n      <td>10.393167</td>\n      <td>99.779854</td>\n      <td>11484</td>\n      <td>0.421875</td>\n      <td>18444897033496049776</td>\n      <td>57.8125</td>\n      <td>./crop/photo_2023-02-19_20-05-10-F8wGA.jpg</td>\n    </tr>\n    <tr>\n      <th>8</th>\n      <td>./crop/photo_2023-02-19_20-05-10-RcfVn.jpg</td>\n      <td>719.5</td>\n      <td>553.0</td>\n      <td>907.463085</td>\n      <td>907.463085</td>\n      <td>907.463085</td>\n      <td>907.463085</td>\n      <td>627</td>\n      <td>358</td>\n      <td>812</td>\n      <td>748</td>\n      <td>0.249501</td>\n      <td>10.937183</td>\n      <td>102.657827</td>\n      <td>9669</td>\n      <td>0.390625</td>\n      <td>18446673618009063424</td>\n      <td>60.9375</td>\n      <td>./crop/photo_2023-02-19_20-05-10-HRH3C.jpg</td>\n    </tr>\n    <tr>\n      <th>9</th>\n      <td>./crop/photo_2023-02-19_20-05-10-1vopC.jpg</td>\n      <td>1184.5</td>\n      <td>679.5</td>\n      <td>1365.562338</td>\n      <td>1365.562338</td>\n      <td>1365.562338</td>\n      <td>1365.562338</td>\n      <td>1092</td>\n      <td>500</td>\n      <td>1277</td>\n      <td>859</td>\n      <td>0.172884</td>\n      <td>11.166467</td>\n      <td>103.379076</td>\n      <td>47445</td>\n      <td>0.234375</td>\n      <td>9221550725950078976</td>\n      <td>76.5625</td>\n      <td>./crop/photo_2023-02-19_20-05-10-RcfVn.jpg</td>\n    </tr>\n    <tr>\n      <th>10</th>\n      <td>./crop/4113-YLavo.jpg</td>\n      <td>636.5</td>\n      <td>618.5</td>\n      <td>887.510282</td>\n      <td>887.510282</td>\n      <td>887.510282</td>\n      <td>887.510282</td>\n      <td>503</td>\n      <td>344</td>\n      <td>770</td>\n      <td>893</td>\n      <td>0.141345</td>\n      <td>7.815327</td>\n      <td>105.281628</td>\n      <td>49528</td>\n      <td>0.500000</td>\n      <td>16682179096141758401</td>\n      <td>50.0000</td>\n      <td>./crop/photo_2023-02-19_20-05-10-1vopC.jpg</td>\n    </tr>\n    <tr>\n      <th>11</th>\n      <td>./crop/4154-JzSJl.jpg</td>\n      <td>567.0</td>\n      <td>531.0</td>\n      <td>776.820443</td>\n      <td>776.820443</td>\n      <td>776.820443</td>\n      <td>776.820443</td>\n      <td>463</td>\n      <td>282</td>\n      <td>671</td>\n      <td>780</td>\n      <td>0.372216</td>\n      <td>10.585498</td>\n      <td>96.538664</td>\n      <td>4769</td>\n      <td>0.265625</td>\n      <td>16123872380333426631</td>\n      <td>73.4375</td>\n      <td>./crop/4113-YLavo.jpg</td>\n    </tr>\n    <tr>\n      <th>12</th>\n      <td>./crop/4154-VGer6.jpg</td>\n      <td>326.0</td>\n      <td>551.0</td>\n      <td>640.216370</td>\n      <td>640.216370</td>\n      <td>640.216370</td>\n      <td>640.216370</td>\n      <td>272</td>\n      <td>345</td>\n      <td>380</td>\n      <td>757</td>\n      <td>0.309536</td>\n      <td>8.124209</td>\n      <td>103.734692</td>\n      <td>19451</td>\n      <td>0.421875</td>\n      <td>542551554962551288</td>\n      <td>57.8125</td>\n      <td>./crop/4154-JzSJl.jpg</td>\n    </tr>\n    <tr>\n      <th>13</th>\n      <td>./crop/4154-9diIv.jpg</td>\n      <td>918.0</td>\n      <td>809.0</td>\n      <td>1223.603285</td>\n      <td>1223.603285</td>\n      <td>1223.603285</td>\n      <td>1223.603285</td>\n      <td>753</td>\n      <td>692</td>\n      <td>1083</td>\n      <td>926</td>\n      <td>0.160676</td>\n      <td>6.872732</td>\n      <td>102.929334</td>\n      <td>3149</td>\n      <td>0.640625</td>\n      <td>18300642002909463299</td>\n      <td>35.9375</td>\n      <td>./crop/4154-VGer6.jpg</td>\n    </tr>\n    <tr>\n      <th>14</th>\n      <td>./crop/5936-SYhlw.jpg</td>\n      <td>594.5</td>\n      <td>512.5</td>\n      <td>784.911778</td>\n      <td>784.911778</td>\n      <td>784.911778</td>\n      <td>784.911778</td>\n      <td>472</td>\n      <td>283</td>\n      <td>717</td>\n      <td>742</td>\n      <td>0.251367</td>\n      <td>8.709424</td>\n      <td>104.703272</td>\n      <td>3108</td>\n      <td>0.468750</td>\n      <td>18429581826894270223</td>\n      <td>53.1250</td>\n      <td>./crop/4154-9diIv.jpg</td>\n    </tr>\n  </tbody>\n</table>\n</div>"
     },
     "execution_count": 142,
     "metadata": {},
     "output_type": "execute_result"
    }
   ],
   "source": [
    "dataFrame = pd.read_csv('./test.csv');\n",
    "dataFrame.head(30)"
   ],
   "metadata": {
    "collapsed": false
   }
  },
  {
   "cell_type": "code",
   "execution_count": 145,
   "outputs": [],
   "source": [
    "url = './crop/146-7Ie64.jpg'\n",
    "# show_image_by_url(url)\n",
    "show_modal_window(url, dataFrame);\n"
   ],
   "metadata": {
    "collapsed": false
   }
  },
  {
   "cell_type": "code",
   "execution_count": 165,
   "outputs": [],
   "source": [
    "after_filter = pd.read_csv('after_filter.csv')"
   ],
   "metadata": {
    "collapsed": false
   }
  },
  {
   "cell_type": "code",
   "execution_count": 168,
   "outputs": [],
   "source": [
    "df_subset = after_filter.loc[100:500]"
   ],
   "metadata": {
    "collapsed": false
   }
  },
  {
   "cell_type": "code",
   "execution_count": 169,
   "outputs": [
    {
     "data": {
      "text/plain": "(401, 19)"
     },
     "execution_count": 169,
     "metadata": {},
     "output_type": "execute_result"
    }
   ],
   "source": [
    "df_subset.shape"
   ],
   "metadata": {
    "collapsed": false
   }
  },
  {
   "cell_type": "code",
   "execution_count": 170,
   "outputs": [
    {
     "name": "stdout",
     "output_type": "stream",
     "text": [
      "2\n",
      "./crop/96-sJlVt.jpg\n"
     ]
    },
    {
     "name": "stderr",
     "output_type": "stream",
     "text": [
      "/tmp/ipykernel_105825/4160701709.py:6: SettingWithCopyWarning: \n",
      "A value is trying to be set on a copy of a slice from a DataFrame.\n",
      "Try using .loc[row_indexer,col_indexer] = value instead\n",
      "\n",
      "See the caveats in the documentation: https://pandas.pydata.org/pandas-docs/stable/user_guide/indexing.html#returning-a-view-versus-a-copy\n",
      "  dataFrame.loc[dataFrame['file_name'] == image_url, 'destination'] = result\n"
     ]
    },
    {
     "name": "stdout",
     "output_type": "stream",
     "text": [
      "2\n",
      "./crop/97-rA4NM.jpg\n",
      "1\n",
      "./crop/97-diBze.jpg\n",
      "2\n",
      "./crop/98-GaotR.jpg\n",
      "1\n",
      "./crop/98-RibNe.jpg\n",
      "1\n",
      "./crop/99-3RlN3.jpg\n",
      "2\n",
      "./crop/99-IM6HF.jpg\n",
      "1\n",
      "./crop/100-oTVqg.jpg\n",
      "2\n",
      "./crop/100-9cFwE.jpg\n",
      "2\n",
      "./crop/101-B7JEW.jpg\n",
      "1\n",
      "./crop/101-Icz0q.jpg\n",
      "2\n",
      "./crop/102-whAnA.jpg\n",
      "2\n",
      "./crop/102-ALuIt.jpg\n",
      "2\n",
      "./crop/103-AZ7Zr.jpg\n",
      "1\n",
      "./crop/103-UGmuS.jpg\n",
      "1\n",
      "./crop/104-IzVR7.jpg\n",
      "2\n",
      "./crop/104-dHMAC.jpg\n",
      "2\n",
      "./crop/105-DPv8m.jpg\n",
      "1\n",
      "./crop/105-osx5G.jpg\n",
      "1\n",
      "./crop/106-uWAmw.jpg\n",
      "2\n",
      "./crop/106-h56UO.jpg\n",
      "1\n",
      "./crop/107-925q5.jpg\n",
      "2\n",
      "./crop/108-DFOnN.jpg\n",
      "2\n",
      "./crop/108-ANTmI.jpg\n",
      "2\n",
      "./crop/109-Jdbsw.jpg\n",
      "1\n",
      "./crop/109-xWQ3t.jpg\n",
      "1\n",
      "./crop/110-p8gEj.jpg\n",
      "1\n",
      "./crop/111-KVldn.jpg\n",
      "2\n",
      "./crop/111-kfATD.jpg\n",
      "2\n",
      "./crop/112-x43Zh.jpg\n",
      "2\n",
      "./crop/113-KTnGX.jpg\n",
      "1\n",
      "./crop/113-yA3Ar.jpg\n",
      "2\n",
      "./crop/114-sg6xs.jpg\n",
      "2\n",
      "./crop/115-yrMuQ.jpg\n",
      "2\n",
      "./crop/116-JSae9.jpg\n",
      "2\n",
      "./crop/117-shHMl.jpg\n",
      "2\n",
      "./crop/118-VmieC.jpg\n",
      "2\n",
      "./crop/119-zZxW0.jpg\n",
      "2\n",
      "./crop/120-iDPdW.jpg\n",
      "2\n",
      "./crop/120-jK5jW.jpg\n",
      "2\n",
      "./crop/121-ldirs.jpg\n",
      "1\n",
      "./crop/121-YJEXy.jpg\n",
      "1\n",
      "./crop/122-T3Cg1.jpg\n",
      "2\n",
      "./crop/122-Ea9jN.jpg\n",
      "1\n",
      "./crop/123-dxgT3.jpg\n",
      "2\n",
      "./crop/123-maf4D.jpg\n",
      "1\n",
      "./crop/124-uKSdH.jpg\n",
      "2\n",
      "./crop/124-tbnrL.jpg\n",
      "1\n",
      "./crop/125-CxQGc.jpg\n"
     ]
    }
   ],
   "source": [
    "for index, row in df_subset.head(50).iterrows():\n",
    "    show_modal_window(row['file_name'], df_subset);"
   ],
   "metadata": {
    "collapsed": false
   }
  },
  {
   "cell_type": "code",
   "execution_count": null,
   "outputs": [],
   "source": [],
   "metadata": {
    "collapsed": false
   }
  }
 ],
 "metadata": {
  "kernelspec": {
   "display_name": "Python 3",
   "language": "python",
   "name": "python3"
  },
  "language_info": {
   "codemirror_mode": {
    "name": "ipython",
    "version": 2
   },
   "file_extension": ".py",
   "mimetype": "text/x-python",
   "name": "python",
   "nbconvert_exporter": "python",
   "pygments_lexer": "ipython2",
   "version": "2.7.6"
  }
 },
 "nbformat": 4,
 "nbformat_minor": 0
}
