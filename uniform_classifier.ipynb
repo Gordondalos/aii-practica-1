{
  "cells": [
    {
      "cell_type": "code",
      "source": [
        "from google.colab import drive # Подключаем google disk\n",
        "drive.mount('/content/drive')"
      ],
      "metadata": {
        "id": "xZ3edKr-rRQE",
        "colab": {
          "base_uri": "https://localhost:8080/"
        },
        "outputId": "328d4ef8-e084-47e7-9ca6-0cf112c0fa56"
      },
      "execution_count": 1,
      "outputs": [
        {
          "output_type": "stream",
          "name": "stdout",
          "text": [
            "Mounted at /content/drive\n"
          ]
        }
      ]
    },
    {
      "cell_type": "code",
      "source": [
        "!unzip /content/drive/MyDrive/data_image.zip -d /content/\n",
        "!unzip /content/data.zip -d /content/"
      ],
      "metadata": {
        "id": "FHeYI1RhYXNM"
      },
      "execution_count": null,
      "outputs": []
    },
    {
      "cell_type": "code",
      "source": [
        "# !pip install torch\n",
        "# import torch\n",
        "# torch.cuda.is_available()"
      ],
      "metadata": {
        "id": "KLCqlBRI8pwM",
        "colab": {
          "base_uri": "https://localhost:8080/"
        },
        "outputId": "3a2ac8c5-8fda-472f-8982-685035a245f3"
      },
      "execution_count": null,
      "outputs": [
        {
          "output_type": "execute_result",
          "data": {
            "text/plain": [
              "True"
            ]
          },
          "metadata": {},
          "execution_count": 8
        }
      ]
    },
    {
      "cell_type": "code",
      "source": [
        "# !rm -rf ./data.zip"
      ],
      "metadata": {
        "id": "JP82M7-IfKwo"
      },
      "execution_count": 4,
      "outputs": []
    },
    {
      "cell_type": "code",
      "source": [
        "# !pip install keras\n",
        "# !pip install tensorflow\n",
        "# !pip install matplotlib\n",
        "# !pip install opencv-contrib-python\n",
        "# !pip install pandas\n",
        "# !pip install scikit-learn"
      ],
      "metadata": {
        "id": "Ja91dPTWe-Nz"
      },
      "execution_count": null,
      "outputs": []
    },
    {
      "cell_type": "code",
      "source": [
        "# import tensorflow as tf\n",
        "# print(tf.config.list_physical_devices('GPU'))"
      ],
      "metadata": {
        "colab": {
          "base_uri": "https://localhost:8080/"
        },
        "id": "zad2QzXronRM",
        "outputId": "2b6d3bfc-13b6-4f97-9839-43655bf1bfbf"
      },
      "execution_count": null,
      "outputs": [
        {
          "output_type": "stream",
          "name": "stdout",
          "text": [
            "[PhysicalDevice(name='/physical_device:GPU:0', device_type='GPU')]\n"
          ]
        }
      ]
    },
    {
      "cell_type": "code",
      "execution_count": 6,
      "outputs": [],
      "source": [
        "from tensorflow.keras.applications import EfficientNetB0, MobileNet\n",
        "from tensorflow.keras.layers import Dense, GlobalAveragePooling2D\n",
        "from tensorflow.keras.models import Model\n",
        "from tensorflow.keras.optimizers import Adam\n",
        "from tensorflow.keras.layers import Dense, Conv2D, MaxPooling2D, Flatten, Dropout, BatchNormalization, UpSampling2D"
      ],
      "metadata": {
        "id": "IhtZcdqqkzka"
      }
    },
    {
      "cell_type": "code",
      "execution_count": 7,
      "outputs": [
        {
          "output_type": "stream",
          "name": "stdout",
          "text": [
            "Using matplotlib backend: <object object at 0x7f1387a5c160>\n"
          ]
        }
      ],
      "source": [
        "import matplotlib\n",
        "%matplotlib\n",
        "%matplotlib inline\n",
        "import matplotlib.pyplot as plt\n",
        "import os\n",
        "from PIL import Image\n",
        "import cv2\n",
        "import numpy as np\n",
        "import pandas as pd\n",
        "from sklearn.model_selection import train_test_split"
      ],
      "metadata": {
        "id": "FQfl-xVSkzkd",
        "colab": {
          "base_uri": "https://localhost:8080/"
        },
        "outputId": "8ad60c32-7d5e-4e4b-aae5-ff6afecf1271"
      }
    },
    {
      "cell_type": "code",
      "execution_count": null,
      "outputs": [],
      "source": [
        "!rm my-data2.csv"
      ],
      "metadata": {
        "id": "GRzNL-5qkzkd"
      }
    },
    {
      "cell_type": "code",
      "execution_count": 16,
      "outputs": [],
      "source": [
        "def read_txt_files_from_directory_to_one_file(directory_path, to_file_path):\n",
        "    import os\n",
        "    count = 0\n",
        "    for filename in os.listdir(directory_path):\n",
        "        with open(os.path.join(directory_path, filename), \"r\") as file:\n",
        "            lines = file.readlines() # читаем все строки в список lines\n",
        "            for line in lines:\n",
        "                with open(to_file_path, \"a\") as fileWrite:\n",
        "                    ln = filename.split('.')[0] + ',' +line + '\\n'\n",
        "                    if ln and len(ln.rstrip()) > 0:\n",
        "                        fileWrite.write(ln.rstrip().replace(' ', ',') + '\\n')\n",
        "        file.close()\n",
        "    fileWrite.close()"
      ],
      "metadata": {
        "id": "7OpdNdIWkzke"
      }
    },
    {
      "cell_type": "code",
      "execution_count": 17,
      "outputs": [],
      "source": [
        "read_txt_files_from_directory_to_one_file('./data', './my-data2.csv')"
      ],
      "metadata": {
        "id": "sdqoEwP0kzke"
      }
    },
    {
      "cell_type": "code",
      "execution_count": 18,
      "outputs": [
        {
          "output_type": "stream",
          "name": "stdout",
          "text": [
            "   file_name obj       btl       btr       bbr       bbl\n",
            "0       1127   0  0.311414  0.509305  0.198511  0.378412\n",
            "1       4372   0  0.270681  0.440998  0.096107  0.324818\n",
            "2       4372   0  0.435523  0.441606  0.138686  0.379562\n",
            "3       3407   0  0.533774  0.536344  0.220264  0.486784\n",
            "4       7548   0  0.560204  0.486888  0.188265  0.429286\n",
            "5       7548   1  0.612755  0.305153  0.078061  0.060714\n",
            "6       7548   2  0.535204  0.441378  0.133163  0.177041\n",
            "7       5923   0  0.400398  0.388446  0.111554  0.314741\n",
            "8       3459   0  0.465605  0.428025  0.155414  0.412739\n",
            "9       7029   0  0.460074  0.483415  0.180590  0.450860\n",
            "10      7029   0  0.585381  0.493243  0.111794  0.426290\n",
            "11      7029   0  0.855651  0.616708  0.256757  0.321867\n",
            "12      7029   1  0.506143  0.296069  0.076167  0.066339\n",
            "13      7029   2  0.429975  0.423833  0.100737  0.213759\n",
            "14      7564   0  0.504300  0.493243  0.160934  0.436118\n",
            "15      7564   2  0.504297  0.471744  0.153906  0.203931\n",
            "16      4785   0  0.385749  0.391278  0.137592  0.318182\n",
            "17      6804   0  0.426650  0.495721  0.122249  0.416870\n",
            "18      6804   1  0.578240  0.290954  0.066015  0.046455\n",
            "19      6804   2  0.558680  0.429095  0.154034  0.183374\n"
          ]
        }
      ],
      "source": [
        "column_names = [\"file_name\", \"obj\", \"btl\", \"btr\", \"bbr\", \"bbl\"]\n",
        "df = pd.read_csv('./my-data2.csv', names=column_names)\n",
        "print(df.head(20))"
      ],
      "metadata": {
        "colab": {
          "base_uri": "https://localhost:8080/"
        },
        "id": "CSc8M5n1kzke",
        "outputId": "9bd0bc12-2910-481b-a89b-0e1c189b0378"
      }
    },
    {
      "cell_type": "code",
      "execution_count": 19,
      "outputs": [
        {
          "output_type": "execute_result",
          "data": {
            "text/plain": [
              "(22940, 6)"
            ]
          },
          "metadata": {},
          "execution_count": 19
        }
      ],
      "source": [
        "df.shape"
      ],
      "metadata": {
        "colab": {
          "base_uri": "https://localhost:8080/"
        },
        "id": "Is9lmCu2kzkf",
        "outputId": "d62589fb-07fa-4b20-faac-b64e2082a062"
      }
    },
    {
      "cell_type": "code",
      "execution_count": 20,
      "outputs": [
        {
          "output_type": "stream",
          "name": "stdout",
          "text": [
            "      file_name obj       btl       btr       bbr       bbl\n",
            "22920      6358   0  0.693262  0.534279  0.225768  0.489362\n",
            "22921      6358   1  0.479314  0.414894  0.192671  0.174941\n",
            "22922      6358   2  0.484634  0.680260  0.269504  0.197400\n",
            "22923       881   0  0.313281  0.500000  0.168750  0.315625\n",
            "22924      6329   0  0.536052  0.469858  0.128842  0.372340\n",
            "22925      6329   0  0.682033  0.542553  0.198582  0.475177\n",
            "22926      6329   0  0.472222  0.554374  0.265957  0.451537\n",
            "22927      6329   1  0.436170  0.401300  0.151300  0.135934\n",
            "22928      6329   2  0.471631  0.660165  0.255319  0.237589\n",
            "22929       712   0  0.293928  0.444444  0.138243  0.338501\n",
            "22930       419   0  0.598906  0.538721  0.207071  0.483165\n",
            "22931       419   1  0.648990  0.345118  0.103535  0.090909\n",
            "22932       419   2  0.579125  0.502525  0.157407  0.159933\n",
            "22933       419   0  0.854377  0.603535  0.250000  0.353535\n",
            "22934       419   2  0.860269  0.653620  0.231481  0.244949\n",
            "22935      7448   0  0.525000  0.466518  0.159821  0.440179\n",
            "22936      7448   1  0.556250  0.286607  0.086607  0.067857\n",
            "22937      7448   2  0.513839  0.427679  0.128571  0.160714\n",
            "22938      4487   0  0.260949  0.440389  0.091241  0.323601\n",
            "22939      4487   0  0.525547  0.582117  0.189781  0.400243\n"
          ]
        }
      ],
      "source": [
        "print(df.tail(20))"
      ],
      "metadata": {
        "colab": {
          "base_uri": "https://localhost:8080/"
        },
        "id": "AATDIrcFkzkf",
        "outputId": "605e728e-fc1f-4a9f-d753-80add88dbf9d"
      }
    },
    {
      "cell_type": "code",
      "execution_count": 21,
      "outputs": [],
      "source": [
        "df = df.dropna()"
      ],
      "metadata": {
        "id": "UkmQeUQ9kzkf"
      }
    },
    {
      "cell_type": "code",
      "execution_count": 22,
      "outputs": [
        {
          "output_type": "stream",
          "name": "stdout",
          "text": [
            "                btl           btr           bbr           bbl\n",
            "count  22422.000000  22422.000000  22422.000000  22422.000000\n",
            "mean       0.490661      0.482714      0.171168      0.290013\n",
            "std        0.165053      0.111266      0.074813      0.129397\n",
            "min        0.035156      0.224415      0.000000      0.000000\n",
            "25%        0.387694      0.412948      0.116557      0.178125\n",
            "50%        0.470516      0.470703      0.153030      0.332031\n",
            "75%        0.579683      0.576421      0.221116      0.395506\n",
            "max        0.938800      0.760313      0.506373      0.545236\n"
          ]
        }
      ],
      "source": [
        "print(df.describe())"
      ],
      "metadata": {
        "colab": {
          "base_uri": "https://localhost:8080/"
        },
        "id": "1Wp6SuOdkzkf",
        "outputId": "bea2552b-ac4d-46de-9147-af3fb009ba82"
      }
    },
    {
      "cell_type": "code",
      "execution_count": 23,
      "outputs": [
        {
          "output_type": "stream",
          "name": "stdout",
          "text": [
            "      file_name obj       btl       btr       bbr       bbl\n",
            "22920      6358   0  0.693262  0.534279  0.225768  0.489362\n",
            "22921      6358   1  0.479314  0.414894  0.192671  0.174941\n",
            "22922      6358   2  0.484634  0.680260  0.269504  0.197400\n",
            "22923       881   0  0.313281  0.500000  0.168750  0.315625\n",
            "22924      6329   0  0.536052  0.469858  0.128842  0.372340\n",
            "22925      6329   0  0.682033  0.542553  0.198582  0.475177\n",
            "22926      6329   0  0.472222  0.554374  0.265957  0.451537\n",
            "22927      6329   1  0.436170  0.401300  0.151300  0.135934\n",
            "22928      6329   2  0.471631  0.660165  0.255319  0.237589\n",
            "22929       712   0  0.293928  0.444444  0.138243  0.338501\n",
            "22930       419   0  0.598906  0.538721  0.207071  0.483165\n",
            "22931       419   1  0.648990  0.345118  0.103535  0.090909\n",
            "22932       419   2  0.579125  0.502525  0.157407  0.159933\n",
            "22933       419   0  0.854377  0.603535  0.250000  0.353535\n",
            "22934       419   2  0.860269  0.653620  0.231481  0.244949\n",
            "22935      7448   0  0.525000  0.466518  0.159821  0.440179\n",
            "22936      7448   1  0.556250  0.286607  0.086607  0.067857\n",
            "22937      7448   2  0.513839  0.427679  0.128571  0.160714\n",
            "22938      4487   0  0.260949  0.440389  0.091241  0.323601\n",
            "22939      4487   0  0.525547  0.582117  0.189781  0.400243\n"
          ]
        }
      ],
      "source": [
        "print(df.tail(20))"
      ],
      "metadata": {
        "colab": {
          "base_uri": "https://localhost:8080/"
        },
        "id": "iR18UMeCkzkf",
        "outputId": "95cd726e-ff11-4eb7-947f-149d5f4e318f"
      }
    },
    {
      "cell_type": "code",
      "execution_count": 24,
      "outputs": [],
      "source": [
        "# Преобразуем категориальный признак в One-hot encoding\n",
        "onehot_df = pd.get_dummies(df['obj'], prefix='obj')\n",
        "\n",
        "# Объединяем исходный DataFrame и One-hot encoding DataFrame\n",
        "df2 = pd.concat([df, onehot_df], axis=1)\n",
        "\n",
        "# Удаляем исходный категориальный столбец\n",
        "df2.drop('obj', axis=1, inplace=True)"
      ],
      "metadata": {
        "id": "5hQ2sYVvkzkg"
      }
    },
    {
      "cell_type": "code",
      "execution_count": 25,
      "outputs": [
        {
          "output_type": "stream",
          "name": "stdout",
          "text": [
            "      file_name       btl       btr       bbr       bbl  obj_0  obj_1  obj_2\n",
            "22935      7448  0.525000  0.466518  0.159821  0.440179      1      0      0\n",
            "22936      7448  0.556250  0.286607  0.086607  0.067857      0      1      0\n",
            "22937      7448  0.513839  0.427679  0.128571  0.160714      0      0      1\n",
            "22938      4487  0.260949  0.440389  0.091241  0.323601      1      0      0\n",
            "22939      4487  0.525547  0.582117  0.189781  0.400243      1      0      0\n"
          ]
        }
      ],
      "source": [
        "print(df2.tail(5))"
      ],
      "metadata": {
        "colab": {
          "base_uri": "https://localhost:8080/"
        },
        "id": "znR2DOwZkzkg",
        "outputId": "2530b179-e701-474e-8555-e200b215463c"
      }
    },
    {
      "cell_type": "code",
      "execution_count": 26,
      "outputs": [],
      "source": [
        "df2.to_csv('./clean_data.csv', index=False)"
      ],
      "metadata": {
        "id": "lUNYcDOEkzkg"
      }
    },
    {
      "cell_type": "code",
      "execution_count": 33,
      "outputs": [],
      "source": [
        "df2 = pd.read_csv('./clean_data.csv')"
      ],
      "metadata": {
        "id": "ddjH7rwekzkg"
      }
    },
    {
      "cell_type": "code",
      "execution_count": 34,
      "outputs": [
        {
          "output_type": "execute_result",
          "data": {
            "text/plain": [
              "(22422, 8)"
            ]
          },
          "metadata": {},
          "execution_count": 34
        }
      ],
      "source": [
        "df2.shape"
      ],
      "metadata": {
        "colab": {
          "base_uri": "https://localhost:8080/"
        },
        "id": "Fcts3ajjkzkh",
        "outputId": "8a367781-020e-4348-dddf-40c6556ea6e3"
      }
    },
    {
      "cell_type": "code",
      "execution_count": 35,
      "outputs": [],
      "source": [
        "def show_image_by_url(url, w=2, h=2):\n",
        "    image = cv2.imread(url)\n",
        "    image = cv2.cvtColor(image, cv2.COLOR_BGR2RGB)  # преобразование порядка цветов\n",
        "    plt.figure(figsize=(w,h))\n",
        "    plt.grid(False)\n",
        "    plt.imshow(image)\n",
        "    plt.show()"
      ],
      "metadata": {
        "id": "HdqyxGofkzkh"
      }
    },
    {
      "cell_type": "code",
      "execution_count": 36,
      "outputs": [
        {
          "output_type": "stream",
          "name": "stdout",
          "text": [
            "    file_name       btl       btr       bbr       bbl  obj_0  obj_1  obj_2\n",
            "0        1127  0.311414  0.509305  0.198511  0.378412      1      0      0\n",
            "1        4372  0.270681  0.440998  0.096107  0.324818      1      0      0\n",
            "2        4372  0.435523  0.441606  0.138686  0.379562      1      0      0\n",
            "3        3407  0.533774  0.536344  0.220264  0.486784      1      0      0\n",
            "4        7548  0.560204  0.486888  0.188265  0.429286      1      0      0\n",
            "5        7548  0.612755  0.305153  0.078061  0.060714      0      1      0\n",
            "6        7548  0.535204  0.441378  0.133163  0.177041      0      0      1\n",
            "7        5923  0.400398  0.388446  0.111554  0.314741      1      0      0\n",
            "8        3459  0.465605  0.428025  0.155414  0.412739      1      0      0\n",
            "9        7029  0.460074  0.483415  0.180590  0.450860      1      0      0\n",
            "10       7029  0.585381  0.493243  0.111794  0.426290      1      0      0\n",
            "11       7029  0.855651  0.616708  0.256757  0.321867      1      0      0\n",
            "12       7029  0.506143  0.296069  0.076167  0.066339      0      1      0\n",
            "13       7029  0.429975  0.423833  0.100737  0.213759      0      0      1\n",
            "14       7564  0.504300  0.493243  0.160934  0.436118      1      0      0\n",
            "15       7564  0.504297  0.471744  0.153906  0.203931      0      0      1\n",
            "16       4785  0.385749  0.391278  0.137592  0.318182      1      0      0\n",
            "17       6804  0.426650  0.495721  0.122249  0.416870      1      0      0\n",
            "18       6804  0.578240  0.290954  0.066015  0.046455      0      1      0\n",
            "19       6804  0.558680  0.429095  0.154034  0.183374      0      0      1\n"
          ]
        }
      ],
      "source": [
        "print(df2.head(20))"
      ],
      "metadata": {
        "colab": {
          "base_uri": "https://localhost:8080/"
        },
        "id": "imYSIFOPkzkh",
        "outputId": "492b19c0-5c9f-471b-bfac-efe528ce2421"
      }
    },
    {
      "cell_type": "code",
      "execution_count": 37,
      "outputs": [
        {
          "output_type": "execute_result",
          "data": {
            "text/plain": [
              "(22422, 8)"
            ]
          },
          "metadata": {},
          "execution_count": 37
        }
      ],
      "source": [
        "df2.shape"
      ],
      "metadata": {
        "colab": {
          "base_uri": "https://localhost:8080/"
        },
        "id": "4NtbRPC6kzkh",
        "outputId": "c894e806-43b4-4f89-8223-9353291b13c9"
      }
    },
    {
      "cell_type": "code",
      "execution_count": 38,
      "outputs": [
        {
          "output_type": "execute_result",
          "data": {
            "text/plain": [
              "       file_name  obj_2 image\n",
              "14875        104      1  None\n",
              "21437        105      1  None\n",
              "18057        106      1  None\n",
              "6384         107      1  None\n",
              "552          108      1  None\n",
              "17072        109      1  None\n",
              "7571         110      1  None\n",
              "21491        113      1  None\n",
              "22078        135      1  None\n",
              "4631         136      1  None\n",
              "4848         137      1  None\n",
              "5178         138      1  None\n",
              "20661        139      1  None\n",
              "16786        140      1  None\n",
              "1811         141      1  None\n",
              "17407        142      1  None\n",
              "932          143      1  None\n",
              "11790        144      1  None\n",
              "21690        145      1  None\n",
              "14823        146      1  None"
            ],
            "text/html": [
              "\n",
              "  <div id=\"df-893778d9-5be7-48fa-b318-e36f8c6a0c75\">\n",
              "    <div class=\"colab-df-container\">\n",
              "      <div>\n",
              "<style scoped>\n",
              "    .dataframe tbody tr th:only-of-type {\n",
              "        vertical-align: middle;\n",
              "    }\n",
              "\n",
              "    .dataframe tbody tr th {\n",
              "        vertical-align: top;\n",
              "    }\n",
              "\n",
              "    .dataframe thead th {\n",
              "        text-align: right;\n",
              "    }\n",
              "</style>\n",
              "<table border=\"1\" class=\"dataframe\">\n",
              "  <thead>\n",
              "    <tr style=\"text-align: right;\">\n",
              "      <th></th>\n",
              "      <th>file_name</th>\n",
              "      <th>obj_2</th>\n",
              "      <th>image</th>\n",
              "    </tr>\n",
              "  </thead>\n",
              "  <tbody>\n",
              "    <tr>\n",
              "      <th>14875</th>\n",
              "      <td>104</td>\n",
              "      <td>1</td>\n",
              "      <td>None</td>\n",
              "    </tr>\n",
              "    <tr>\n",
              "      <th>21437</th>\n",
              "      <td>105</td>\n",
              "      <td>1</td>\n",
              "      <td>None</td>\n",
              "    </tr>\n",
              "    <tr>\n",
              "      <th>18057</th>\n",
              "      <td>106</td>\n",
              "      <td>1</td>\n",
              "      <td>None</td>\n",
              "    </tr>\n",
              "    <tr>\n",
              "      <th>6384</th>\n",
              "      <td>107</td>\n",
              "      <td>1</td>\n",
              "      <td>None</td>\n",
              "    </tr>\n",
              "    <tr>\n",
              "      <th>552</th>\n",
              "      <td>108</td>\n",
              "      <td>1</td>\n",
              "      <td>None</td>\n",
              "    </tr>\n",
              "    <tr>\n",
              "      <th>17072</th>\n",
              "      <td>109</td>\n",
              "      <td>1</td>\n",
              "      <td>None</td>\n",
              "    </tr>\n",
              "    <tr>\n",
              "      <th>7571</th>\n",
              "      <td>110</td>\n",
              "      <td>1</td>\n",
              "      <td>None</td>\n",
              "    </tr>\n",
              "    <tr>\n",
              "      <th>21491</th>\n",
              "      <td>113</td>\n",
              "      <td>1</td>\n",
              "      <td>None</td>\n",
              "    </tr>\n",
              "    <tr>\n",
              "      <th>22078</th>\n",
              "      <td>135</td>\n",
              "      <td>1</td>\n",
              "      <td>None</td>\n",
              "    </tr>\n",
              "    <tr>\n",
              "      <th>4631</th>\n",
              "      <td>136</td>\n",
              "      <td>1</td>\n",
              "      <td>None</td>\n",
              "    </tr>\n",
              "    <tr>\n",
              "      <th>4848</th>\n",
              "      <td>137</td>\n",
              "      <td>1</td>\n",
              "      <td>None</td>\n",
              "    </tr>\n",
              "    <tr>\n",
              "      <th>5178</th>\n",
              "      <td>138</td>\n",
              "      <td>1</td>\n",
              "      <td>None</td>\n",
              "    </tr>\n",
              "    <tr>\n",
              "      <th>20661</th>\n",
              "      <td>139</td>\n",
              "      <td>1</td>\n",
              "      <td>None</td>\n",
              "    </tr>\n",
              "    <tr>\n",
              "      <th>16786</th>\n",
              "      <td>140</td>\n",
              "      <td>1</td>\n",
              "      <td>None</td>\n",
              "    </tr>\n",
              "    <tr>\n",
              "      <th>1811</th>\n",
              "      <td>141</td>\n",
              "      <td>1</td>\n",
              "      <td>None</td>\n",
              "    </tr>\n",
              "    <tr>\n",
              "      <th>17407</th>\n",
              "      <td>142</td>\n",
              "      <td>1</td>\n",
              "      <td>None</td>\n",
              "    </tr>\n",
              "    <tr>\n",
              "      <th>932</th>\n",
              "      <td>143</td>\n",
              "      <td>1</td>\n",
              "      <td>None</td>\n",
              "    </tr>\n",
              "    <tr>\n",
              "      <th>11790</th>\n",
              "      <td>144</td>\n",
              "      <td>1</td>\n",
              "      <td>None</td>\n",
              "    </tr>\n",
              "    <tr>\n",
              "      <th>21690</th>\n",
              "      <td>145</td>\n",
              "      <td>1</td>\n",
              "      <td>None</td>\n",
              "    </tr>\n",
              "    <tr>\n",
              "      <th>14823</th>\n",
              "      <td>146</td>\n",
              "      <td>1</td>\n",
              "      <td>None</td>\n",
              "    </tr>\n",
              "  </tbody>\n",
              "</table>\n",
              "</div>\n",
              "      <button class=\"colab-df-convert\" onclick=\"convertToInteractive('df-893778d9-5be7-48fa-b318-e36f8c6a0c75')\"\n",
              "              title=\"Convert this dataframe to an interactive table.\"\n",
              "              style=\"display:none;\">\n",
              "        \n",
              "  <svg xmlns=\"http://www.w3.org/2000/svg\" height=\"24px\"viewBox=\"0 0 24 24\"\n",
              "       width=\"24px\">\n",
              "    <path d=\"M0 0h24v24H0V0z\" fill=\"none\"/>\n",
              "    <path d=\"M18.56 5.44l.94 2.06.94-2.06 2.06-.94-2.06-.94-.94-2.06-.94 2.06-2.06.94zm-11 1L8.5 8.5l.94-2.06 2.06-.94-2.06-.94L8.5 2.5l-.94 2.06-2.06.94zm10 10l.94 2.06.94-2.06 2.06-.94-2.06-.94-.94-2.06-.94 2.06-2.06.94z\"/><path d=\"M17.41 7.96l-1.37-1.37c-.4-.4-.92-.59-1.43-.59-.52 0-1.04.2-1.43.59L10.3 9.45l-7.72 7.72c-.78.78-.78 2.05 0 2.83L4 21.41c.39.39.9.59 1.41.59.51 0 1.02-.2 1.41-.59l7.78-7.78 2.81-2.81c.8-.78.8-2.07 0-2.86zM5.41 20L4 18.59l7.72-7.72 1.47 1.35L5.41 20z\"/>\n",
              "  </svg>\n",
              "      </button>\n",
              "      \n",
              "  <style>\n",
              "    .colab-df-container {\n",
              "      display:flex;\n",
              "      flex-wrap:wrap;\n",
              "      gap: 12px;\n",
              "    }\n",
              "\n",
              "    .colab-df-convert {\n",
              "      background-color: #E8F0FE;\n",
              "      border: none;\n",
              "      border-radius: 50%;\n",
              "      cursor: pointer;\n",
              "      display: none;\n",
              "      fill: #1967D2;\n",
              "      height: 32px;\n",
              "      padding: 0 0 0 0;\n",
              "      width: 32px;\n",
              "    }\n",
              "\n",
              "    .colab-df-convert:hover {\n",
              "      background-color: #E2EBFA;\n",
              "      box-shadow: 0px 1px 2px rgba(60, 64, 67, 0.3), 0px 1px 3px 1px rgba(60, 64, 67, 0.15);\n",
              "      fill: #174EA6;\n",
              "    }\n",
              "\n",
              "    [theme=dark] .colab-df-convert {\n",
              "      background-color: #3B4455;\n",
              "      fill: #D2E3FC;\n",
              "    }\n",
              "\n",
              "    [theme=dark] .colab-df-convert:hover {\n",
              "      background-color: #434B5C;\n",
              "      box-shadow: 0px 1px 3px 1px rgba(0, 0, 0, 0.15);\n",
              "      filter: drop-shadow(0px 1px 2px rgba(0, 0, 0, 0.3));\n",
              "      fill: #FFFFFF;\n",
              "    }\n",
              "  </style>\n",
              "\n",
              "      <script>\n",
              "        const buttonEl =\n",
              "          document.querySelector('#df-893778d9-5be7-48fa-b318-e36f8c6a0c75 button.colab-df-convert');\n",
              "        buttonEl.style.display =\n",
              "          google.colab.kernel.accessAllowed ? 'block' : 'none';\n",
              "\n",
              "        async function convertToInteractive(key) {\n",
              "          const element = document.querySelector('#df-893778d9-5be7-48fa-b318-e36f8c6a0c75');\n",
              "          const dataTable =\n",
              "            await google.colab.kernel.invokeFunction('convertToInteractive',\n",
              "                                                     [key], {});\n",
              "          if (!dataTable) return;\n",
              "\n",
              "          const docLinkHtml = 'Like what you see? Visit the ' +\n",
              "            '<a target=\"_blank\" href=https://colab.research.google.com/notebooks/data_table.ipynb>data table notebook</a>'\n",
              "            + ' to learn more about interactive tables.';\n",
              "          element.innerHTML = '';\n",
              "          dataTable['output_type'] = 'display_data';\n",
              "          await google.colab.output.renderOutput(dataTable, element);\n",
              "          const docLink = document.createElement('div');\n",
              "          docLink.innerHTML = docLinkHtml;\n",
              "          element.appendChild(docLink);\n",
              "        }\n",
              "      </script>\n",
              "    </div>\n",
              "  </div>\n",
              "  "
            ]
          },
          "metadata": {},
          "execution_count": 38
        }
      ],
      "source": [
        "df2['image'] = None\n",
        "df2['file_name'] = df2['file_name'].astype(int)\n",
        "df2 = df2.sort_values('file_name')\n",
        "df2 = df2.loc[df2['obj_2'] == 1]\n",
        "df2 = df2.drop(columns=['obj_0'])\n",
        "df2 = df2.drop(columns=['obj_1'])\n",
        "df2 = df2.drop(columns=['btl'])\n",
        "df2 = df2.drop(columns=['btr'])\n",
        "df2 = df2.drop(columns=['bbr'])\n",
        "df2 = df2.drop(columns=['bbl'])\n",
        "df2 = df2.drop_duplicates()\n",
        "df2.head(20)"
      ],
      "metadata": {
        "id": "38Pq0qxgkzki",
        "outputId": "b9561cbd-213e-4cc8-f186-9b5ca82f6ace",
        "colab": {
          "base_uri": "https://localhost:8080/",
          "height": 677
        }
      }
    },
    {
      "cell_type": "code",
      "execution_count": 39,
      "outputs": [
        {
          "output_type": "stream",
          "name": "stdout",
          "text": [
            "(1877, 3)\n"
          ]
        }
      ],
      "source": [
        "print(df2.shape)"
      ],
      "metadata": {
        "id": "oDrJjGE_kzki",
        "outputId": "5c5b1ba7-29b6-43bd-c254-79bf4e4312a4",
        "colab": {
          "base_uri": "https://localhost:8080/"
        }
      }
    },
    {
      "cell_type": "code",
      "execution_count": 40,
      "outputs": [],
      "source": [
        "import glob"
      ],
      "metadata": {
        "id": "Z6x1Io3xkzki"
      }
    },
    {
      "cell_type": "code",
      "execution_count": null,
      "outputs": [],
      "source": [],
      "metadata": {
        "id": "ZEifpGEMkzki"
      }
    },
    {
      "cell_type": "code",
      "execution_count": 41,
      "outputs": [],
      "source": [
        "def load(imPath):\n",
        "    img = Image.open(f'./data_image/{imPath}.jpg')\n",
        "    img = img.resize((224, 224))\n",
        "    img_array = np.array(img)\n",
        "    return img_array\n",
        "df2['image'] = df2['file_name'].apply(lambda x: load(x))"
      ],
      "metadata": {
        "id": "9eawK-RCkzki"
      }
    },
    {
      "cell_type": "code",
      "execution_count": 42,
      "outputs": [
        {
          "output_type": "execute_result",
          "data": {
            "text/plain": [
              "       file_name  obj_2                                              image\n",
              "14875        104      1  [[[0, 0, 0], [0, 0, 0], [0, 0, 0], [0, 0, 0], ...\n",
              "21437        105      1  [[[0, 0, 0], [0, 0, 0], [0, 0, 0], [0, 0, 0], ...\n",
              "18057        106      1  [[[0, 0, 0], [0, 0, 0], [0, 0, 0], [0, 0, 0], ...\n",
              "6384         107      1  [[[0, 0, 0], [0, 0, 0], [0, 0, 0], [0, 0, 0], ...\n",
              "552          108      1  [[[0, 0, 0], [0, 0, 0], [0, 0, 0], [0, 0, 0], ..."
            ],
            "text/html": [
              "\n",
              "  <div id=\"df-c88424af-5e7c-4bf8-b84d-8d13c75dc42c\">\n",
              "    <div class=\"colab-df-container\">\n",
              "      <div>\n",
              "<style scoped>\n",
              "    .dataframe tbody tr th:only-of-type {\n",
              "        vertical-align: middle;\n",
              "    }\n",
              "\n",
              "    .dataframe tbody tr th {\n",
              "        vertical-align: top;\n",
              "    }\n",
              "\n",
              "    .dataframe thead th {\n",
              "        text-align: right;\n",
              "    }\n",
              "</style>\n",
              "<table border=\"1\" class=\"dataframe\">\n",
              "  <thead>\n",
              "    <tr style=\"text-align: right;\">\n",
              "      <th></th>\n",
              "      <th>file_name</th>\n",
              "      <th>obj_2</th>\n",
              "      <th>image</th>\n",
              "    </tr>\n",
              "  </thead>\n",
              "  <tbody>\n",
              "    <tr>\n",
              "      <th>14875</th>\n",
              "      <td>104</td>\n",
              "      <td>1</td>\n",
              "      <td>[[[0, 0, 0], [0, 0, 0], [0, 0, 0], [0, 0, 0], ...</td>\n",
              "    </tr>\n",
              "    <tr>\n",
              "      <th>21437</th>\n",
              "      <td>105</td>\n",
              "      <td>1</td>\n",
              "      <td>[[[0, 0, 0], [0, 0, 0], [0, 0, 0], [0, 0, 0], ...</td>\n",
              "    </tr>\n",
              "    <tr>\n",
              "      <th>18057</th>\n",
              "      <td>106</td>\n",
              "      <td>1</td>\n",
              "      <td>[[[0, 0, 0], [0, 0, 0], [0, 0, 0], [0, 0, 0], ...</td>\n",
              "    </tr>\n",
              "    <tr>\n",
              "      <th>6384</th>\n",
              "      <td>107</td>\n",
              "      <td>1</td>\n",
              "      <td>[[[0, 0, 0], [0, 0, 0], [0, 0, 0], [0, 0, 0], ...</td>\n",
              "    </tr>\n",
              "    <tr>\n",
              "      <th>552</th>\n",
              "      <td>108</td>\n",
              "      <td>1</td>\n",
              "      <td>[[[0, 0, 0], [0, 0, 0], [0, 0, 0], [0, 0, 0], ...</td>\n",
              "    </tr>\n",
              "  </tbody>\n",
              "</table>\n",
              "</div>\n",
              "      <button class=\"colab-df-convert\" onclick=\"convertToInteractive('df-c88424af-5e7c-4bf8-b84d-8d13c75dc42c')\"\n",
              "              title=\"Convert this dataframe to an interactive table.\"\n",
              "              style=\"display:none;\">\n",
              "        \n",
              "  <svg xmlns=\"http://www.w3.org/2000/svg\" height=\"24px\"viewBox=\"0 0 24 24\"\n",
              "       width=\"24px\">\n",
              "    <path d=\"M0 0h24v24H0V0z\" fill=\"none\"/>\n",
              "    <path d=\"M18.56 5.44l.94 2.06.94-2.06 2.06-.94-2.06-.94-.94-2.06-.94 2.06-2.06.94zm-11 1L8.5 8.5l.94-2.06 2.06-.94-2.06-.94L8.5 2.5l-.94 2.06-2.06.94zm10 10l.94 2.06.94-2.06 2.06-.94-2.06-.94-.94-2.06-.94 2.06-2.06.94z\"/><path d=\"M17.41 7.96l-1.37-1.37c-.4-.4-.92-.59-1.43-.59-.52 0-1.04.2-1.43.59L10.3 9.45l-7.72 7.72c-.78.78-.78 2.05 0 2.83L4 21.41c.39.39.9.59 1.41.59.51 0 1.02-.2 1.41-.59l7.78-7.78 2.81-2.81c.8-.78.8-2.07 0-2.86zM5.41 20L4 18.59l7.72-7.72 1.47 1.35L5.41 20z\"/>\n",
              "  </svg>\n",
              "      </button>\n",
              "      \n",
              "  <style>\n",
              "    .colab-df-container {\n",
              "      display:flex;\n",
              "      flex-wrap:wrap;\n",
              "      gap: 12px;\n",
              "    }\n",
              "\n",
              "    .colab-df-convert {\n",
              "      background-color: #E8F0FE;\n",
              "      border: none;\n",
              "      border-radius: 50%;\n",
              "      cursor: pointer;\n",
              "      display: none;\n",
              "      fill: #1967D2;\n",
              "      height: 32px;\n",
              "      padding: 0 0 0 0;\n",
              "      width: 32px;\n",
              "    }\n",
              "\n",
              "    .colab-df-convert:hover {\n",
              "      background-color: #E2EBFA;\n",
              "      box-shadow: 0px 1px 2px rgba(60, 64, 67, 0.3), 0px 1px 3px 1px rgba(60, 64, 67, 0.15);\n",
              "      fill: #174EA6;\n",
              "    }\n",
              "\n",
              "    [theme=dark] .colab-df-convert {\n",
              "      background-color: #3B4455;\n",
              "      fill: #D2E3FC;\n",
              "    }\n",
              "\n",
              "    [theme=dark] .colab-df-convert:hover {\n",
              "      background-color: #434B5C;\n",
              "      box-shadow: 0px 1px 3px 1px rgba(0, 0, 0, 0.15);\n",
              "      filter: drop-shadow(0px 1px 2px rgba(0, 0, 0, 0.3));\n",
              "      fill: #FFFFFF;\n",
              "    }\n",
              "  </style>\n",
              "\n",
              "      <script>\n",
              "        const buttonEl =\n",
              "          document.querySelector('#df-c88424af-5e7c-4bf8-b84d-8d13c75dc42c button.colab-df-convert');\n",
              "        buttonEl.style.display =\n",
              "          google.colab.kernel.accessAllowed ? 'block' : 'none';\n",
              "\n",
              "        async function convertToInteractive(key) {\n",
              "          const element = document.querySelector('#df-c88424af-5e7c-4bf8-b84d-8d13c75dc42c');\n",
              "          const dataTable =\n",
              "            await google.colab.kernel.invokeFunction('convertToInteractive',\n",
              "                                                     [key], {});\n",
              "          if (!dataTable) return;\n",
              "\n",
              "          const docLinkHtml = 'Like what you see? Visit the ' +\n",
              "            '<a target=\"_blank\" href=https://colab.research.google.com/notebooks/data_table.ipynb>data table notebook</a>'\n",
              "            + ' to learn more about interactive tables.';\n",
              "          element.innerHTML = '';\n",
              "          dataTable['output_type'] = 'display_data';\n",
              "          await google.colab.output.renderOutput(dataTable, element);\n",
              "          const docLink = document.createElement('div');\n",
              "          docLink.innerHTML = docLinkHtml;\n",
              "          element.appendChild(docLink);\n",
              "        }\n",
              "      </script>\n",
              "    </div>\n",
              "  </div>\n",
              "  "
            ]
          },
          "metadata": {},
          "execution_count": 42
        }
      ],
      "source": [
        "df2.head()"
      ],
      "metadata": {
        "id": "fRBFypPWkzkj",
        "outputId": "451d659a-6e8d-4dc4-da84-27c565e30cce",
        "colab": {
          "base_uri": "https://localhost:8080/",
          "height": 206
        }
      }
    },
    {
      "cell_type": "code",
      "execution_count": 43,
      "outputs": [],
      "source": [
        "data = df2"
      ],
      "metadata": {
        "id": "hVIhhNrrkzkj"
      }
    },
    {
      "cell_type": "code",
      "execution_count": 44,
      "outputs": [
        {
          "output_type": "execute_result",
          "data": {
            "text/plain": [
              "(1877, 3)"
            ]
          },
          "metadata": {},
          "execution_count": 44
        }
      ],
      "source": [
        "data.shape"
      ],
      "metadata": {
        "id": "528amAyrkzkj",
        "outputId": "ed18810b-1d24-47bc-e0c9-19fc77e9d52c",
        "colab": {
          "base_uri": "https://localhost:8080/"
        }
      }
    },
    {
      "cell_type": "code",
      "execution_count": 45,
      "outputs": [],
      "source": [
        "import tensorflow as tf"
      ],
      "metadata": {
        "id": "6FFDN7d1kzkj"
      }
    },
    {
      "cell_type": "code",
      "execution_count": 46,
      "outputs": [
        {
          "output_type": "stream",
          "name": "stdout",
          "text": [
            "       file_name  obj_2                                              image\n",
            "14875        104      1  [[[0, 0, 0], [0, 0, 0], [0, 0, 0], [0, 0, 0], ...\n",
            "21437        105      1  [[[0, 0, 0], [0, 0, 0], [0, 0, 0], [0, 0, 0], ...\n",
            "18057        106      1  [[[0, 0, 0], [0, 0, 0], [0, 0, 0], [0, 0, 0], ...\n",
            "6384         107      1  [[[0, 0, 0], [0, 0, 0], [0, 0, 0], [0, 0, 0], ...\n",
            "552          108      1  [[[0, 0, 0], [0, 0, 0], [0, 0, 0], [0, 0, 0], ...\n"
          ]
        }
      ],
      "source": [
        "print(data.head())"
      ],
      "metadata": {
        "id": "QljlpYCrkzkj",
        "outputId": "7d241c48-b103-4bb2-eae5-27c922c514db",
        "colab": {
          "base_uri": "https://localhost:8080/"
        }
      }
    },
    {
      "cell_type": "code",
      "execution_count": 48,
      "outputs": [
        {
          "output_type": "stream",
          "name": "stdout",
          "text": [
            "1877\n",
            "(1877, 224, 224, 3)\n",
            "(1877, 2)\n"
          ]
        }
      ],
      "source": [
        "from keras.utils import np_utils\n",
        "\n",
        "x_data = np.array(data['image'].tolist())\n",
        "y_data = data['obj_2']\n",
        "\n",
        "print(len(x_data))\n",
        "\n",
        "y_data = np_utils.to_categorical(y_data)\n",
        "\n",
        "print(x_data.shape)\n",
        "print(y_data.shape)"
      ],
      "metadata": {
        "id": "v8eS2dFQkzkj",
        "outputId": "b7075862-c1c2-4d64-c6f2-a0d9c817e6a5",
        "colab": {
          "base_uri": "https://localhost:8080/"
        }
      }
    },
    {
      "cell_type": "code",
      "execution_count": 49,
      "outputs": [],
      "source": [
        "X = np.array(data['image'].tolist())\n",
        "y = data['obj_2']\n",
        "\n",
        "# разделяем данные на обучающую и тестовую выборки\n",
        "x_train, x_test, y_train, y_test = train_test_split(X, y, test_size=0.3, random_state=42)"
      ],
      "metadata": {
        "id": "9GcxNDNUkzkk"
      }
    },
    {
      "cell_type": "code",
      "execution_count": 50,
      "outputs": [
        {
          "output_type": "execute_result",
          "data": {
            "text/plain": [
              "array([[[[0, 0, 0],\n",
              "         [0, 0, 0],\n",
              "         [0, 0, 0],\n",
              "         ...,\n",
              "         [0, 0, 0],\n",
              "         [0, 0, 0],\n",
              "         [0, 0, 0]],\n",
              "\n",
              "        [[0, 0, 0],\n",
              "         [0, 0, 0],\n",
              "         [0, 0, 0],\n",
              "         ...,\n",
              "         [0, 0, 0],\n",
              "         [0, 0, 0],\n",
              "         [0, 0, 0]],\n",
              "\n",
              "        [[0, 0, 0],\n",
              "         [0, 0, 0],\n",
              "         [0, 0, 0],\n",
              "         ...,\n",
              "         [0, 0, 0],\n",
              "         [0, 0, 0],\n",
              "         [0, 0, 0]],\n",
              "\n",
              "        ...,\n",
              "\n",
              "        [[0, 0, 0],\n",
              "         [0, 0, 0],\n",
              "         [0, 0, 0],\n",
              "         ...,\n",
              "         [0, 0, 0],\n",
              "         [0, 0, 0],\n",
              "         [0, 0, 0]],\n",
              "\n",
              "        [[0, 0, 0],\n",
              "         [0, 0, 0],\n",
              "         [0, 0, 0],\n",
              "         ...,\n",
              "         [0, 0, 0],\n",
              "         [0, 0, 0],\n",
              "         [0, 0, 0]],\n",
              "\n",
              "        [[0, 0, 0],\n",
              "         [0, 0, 0],\n",
              "         [0, 0, 0],\n",
              "         ...,\n",
              "         [0, 0, 0],\n",
              "         [0, 0, 0],\n",
              "         [0, 0, 0]]]], dtype=uint8)"
            ]
          },
          "metadata": {},
          "execution_count": 50
        }
      ],
      "source": [
        "x_train[:1]"
      ],
      "metadata": {
        "id": "4crnF7Qkkzkk",
        "outputId": "dcfcba35-10df-429a-af05-70b607a6259a",
        "colab": {
          "base_uri": "https://localhost:8080/"
        }
      }
    },
    {
      "cell_type": "code",
      "execution_count": 51,
      "outputs": [
        {
          "output_type": "execute_result",
          "data": {
            "text/plain": [
              "300    1\n",
              "Name: obj_2, dtype: int64"
            ]
          },
          "metadata": {},
          "execution_count": 51
        }
      ],
      "source": [
        "y_train[:1]"
      ],
      "metadata": {
        "id": "2HsJon4mkzkk",
        "outputId": "cd978024-ed35-455e-f44c-b9636d0476d7",
        "colab": {
          "base_uri": "https://localhost:8080/"
        }
      }
    },
    {
      "cell_type": "code",
      "execution_count": 52,
      "outputs": [
        {
          "output_type": "execute_result",
          "data": {
            "text/plain": [
              "array([[[[0, 0, 0],\n",
              "         [0, 0, 0],\n",
              "         [0, 0, 0],\n",
              "         ...,\n",
              "         [0, 0, 0],\n",
              "         [0, 0, 0],\n",
              "         [0, 0, 0]],\n",
              "\n",
              "        [[0, 0, 0],\n",
              "         [0, 0, 0],\n",
              "         [0, 0, 0],\n",
              "         ...,\n",
              "         [0, 0, 0],\n",
              "         [0, 0, 0],\n",
              "         [0, 0, 0]],\n",
              "\n",
              "        [[0, 0, 0],\n",
              "         [0, 0, 0],\n",
              "         [0, 0, 0],\n",
              "         ...,\n",
              "         [0, 0, 0],\n",
              "         [0, 0, 0],\n",
              "         [0, 0, 0]],\n",
              "\n",
              "        ...,\n",
              "\n",
              "        [[0, 0, 0],\n",
              "         [0, 0, 0],\n",
              "         [0, 0, 0],\n",
              "         ...,\n",
              "         [0, 0, 0],\n",
              "         [0, 0, 0],\n",
              "         [0, 0, 0]],\n",
              "\n",
              "        [[0, 0, 0],\n",
              "         [0, 0, 0],\n",
              "         [0, 0, 0],\n",
              "         ...,\n",
              "         [0, 0, 0],\n",
              "         [0, 0, 0],\n",
              "         [0, 0, 0]],\n",
              "\n",
              "        [[0, 0, 0],\n",
              "         [0, 0, 0],\n",
              "         [0, 0, 0],\n",
              "         ...,\n",
              "         [0, 0, 0],\n",
              "         [0, 0, 0],\n",
              "         [0, 0, 0]]]], dtype=uint8)"
            ]
          },
          "metadata": {},
          "execution_count": 52
        }
      ],
      "source": [
        "x_test[:1]"
      ],
      "metadata": {
        "id": "2bE-uqfXkzkk",
        "outputId": "28466ebc-c4ab-44aa-b075-ad86bca997bb",
        "colab": {
          "base_uri": "https://localhost:8080/"
        }
      }
    },
    {
      "cell_type": "code",
      "execution_count": 53,
      "outputs": [
        {
          "output_type": "execute_result",
          "data": {
            "text/plain": [
              "13720    1\n",
              "Name: obj_2, dtype: int64"
            ]
          },
          "metadata": {},
          "execution_count": 53
        }
      ],
      "source": [
        "y_test[:1]"
      ],
      "metadata": {
        "id": "qHQ5n6Qwkzkk",
        "outputId": "2834b71b-186a-4681-8061-25053041a255",
        "colab": {
          "base_uri": "https://localhost:8080/"
        }
      }
    },
    {
      "cell_type": "code",
      "execution_count": 54,
      "outputs": [
        {
          "output_type": "stream",
          "name": "stdout",
          "text": [
            "Downloading data from https://storage.googleapis.com/tensorflow/keras-applications/mobilenet/mobilenet_1_0_224_tf_no_top.h5\n",
            "17225924/17225924 [==============================] - 2s 0us/step\n"
          ]
        }
      ],
      "source": [
        "base_model = MobileNet(weights='imagenet', include_top=False,  input_shape=(224, 224, 3))"
      ],
      "metadata": {
        "id": "jkoK0gnQkzkl",
        "colab": {
          "base_uri": "https://localhost:8080/"
        },
        "outputId": "22f7c25d-7879-4f6f-e92f-e9d58abac71c"
      }
    },
    {
      "cell_type": "code",
      "execution_count": 55,
      "outputs": [
        {
          "output_type": "stream",
          "name": "stdout",
          "text": [
            "Model: \"model\"\n",
            "_________________________________________________________________\n",
            " Layer (type)                Output Shape              Param #   \n",
            "=================================================================\n",
            " input_1 (InputLayer)        [(None, 224, 224, 3)]     0         \n",
            "                                                                 \n",
            " conv1 (Conv2D)              (None, 112, 112, 32)      864       \n",
            "                                                                 \n",
            " conv1_bn (BatchNormalizatio  (None, 112, 112, 32)     128       \n",
            " n)                                                              \n",
            "                                                                 \n",
            " conv1_relu (ReLU)           (None, 112, 112, 32)      0         \n",
            "                                                                 \n",
            " conv_dw_1 (DepthwiseConv2D)  (None, 112, 112, 32)     288       \n",
            "                                                                 \n",
            " conv_dw_1_bn (BatchNormaliz  (None, 112, 112, 32)     128       \n",
            " ation)                                                          \n",
            "                                                                 \n",
            " conv_dw_1_relu (ReLU)       (None, 112, 112, 32)      0         \n",
            "                                                                 \n",
            " conv_pw_1 (Conv2D)          (None, 112, 112, 64)      2048      \n",
            "                                                                 \n",
            " conv_pw_1_bn (BatchNormaliz  (None, 112, 112, 64)     256       \n",
            " ation)                                                          \n",
            "                                                                 \n",
            " conv_pw_1_relu (ReLU)       (None, 112, 112, 64)      0         \n",
            "                                                                 \n",
            " conv_pad_2 (ZeroPadding2D)  (None, 113, 113, 64)      0         \n",
            "                                                                 \n",
            " conv_dw_2 (DepthwiseConv2D)  (None, 56, 56, 64)       576       \n",
            "                                                                 \n",
            " conv_dw_2_bn (BatchNormaliz  (None, 56, 56, 64)       256       \n",
            " ation)                                                          \n",
            "                                                                 \n",
            " conv_dw_2_relu (ReLU)       (None, 56, 56, 64)        0         \n",
            "                                                                 \n",
            " conv_pw_2 (Conv2D)          (None, 56, 56, 128)       8192      \n",
            "                                                                 \n",
            " conv_pw_2_bn (BatchNormaliz  (None, 56, 56, 128)      512       \n",
            " ation)                                                          \n",
            "                                                                 \n",
            " conv_pw_2_relu (ReLU)       (None, 56, 56, 128)       0         \n",
            "                                                                 \n",
            " conv_dw_3 (DepthwiseConv2D)  (None, 56, 56, 128)      1152      \n",
            "                                                                 \n",
            " conv_dw_3_bn (BatchNormaliz  (None, 56, 56, 128)      512       \n",
            " ation)                                                          \n",
            "                                                                 \n",
            " conv_dw_3_relu (ReLU)       (None, 56, 56, 128)       0         \n",
            "                                                                 \n",
            " conv_pw_3 (Conv2D)          (None, 56, 56, 128)       16384     \n",
            "                                                                 \n",
            " conv_pw_3_bn (BatchNormaliz  (None, 56, 56, 128)      512       \n",
            " ation)                                                          \n",
            "                                                                 \n",
            " conv_pw_3_relu (ReLU)       (None, 56, 56, 128)       0         \n",
            "                                                                 \n",
            " conv_pad_4 (ZeroPadding2D)  (None, 57, 57, 128)       0         \n",
            "                                                                 \n",
            " conv_dw_4 (DepthwiseConv2D)  (None, 28, 28, 128)      1152      \n",
            "                                                                 \n",
            " conv_dw_4_bn (BatchNormaliz  (None, 28, 28, 128)      512       \n",
            " ation)                                                          \n",
            "                                                                 \n",
            " conv_dw_4_relu (ReLU)       (None, 28, 28, 128)       0         \n",
            "                                                                 \n",
            " conv_pw_4 (Conv2D)          (None, 28, 28, 256)       32768     \n",
            "                                                                 \n",
            " conv_pw_4_bn (BatchNormaliz  (None, 28, 28, 256)      1024      \n",
            " ation)                                                          \n",
            "                                                                 \n",
            " conv_pw_4_relu (ReLU)       (None, 28, 28, 256)       0         \n",
            "                                                                 \n",
            " conv_dw_5 (DepthwiseConv2D)  (None, 28, 28, 256)      2304      \n",
            "                                                                 \n",
            " conv_dw_5_bn (BatchNormaliz  (None, 28, 28, 256)      1024      \n",
            " ation)                                                          \n",
            "                                                                 \n",
            " conv_dw_5_relu (ReLU)       (None, 28, 28, 256)       0         \n",
            "                                                                 \n",
            " conv_pw_5 (Conv2D)          (None, 28, 28, 256)       65536     \n",
            "                                                                 \n",
            " conv_pw_5_bn (BatchNormaliz  (None, 28, 28, 256)      1024      \n",
            " ation)                                                          \n",
            "                                                                 \n",
            " conv_pw_5_relu (ReLU)       (None, 28, 28, 256)       0         \n",
            "                                                                 \n",
            " conv_pad_6 (ZeroPadding2D)  (None, 29, 29, 256)       0         \n",
            "                                                                 \n",
            " conv_dw_6 (DepthwiseConv2D)  (None, 14, 14, 256)      2304      \n",
            "                                                                 \n",
            " conv_dw_6_bn (BatchNormaliz  (None, 14, 14, 256)      1024      \n",
            " ation)                                                          \n",
            "                                                                 \n",
            " conv_dw_6_relu (ReLU)       (None, 14, 14, 256)       0         \n",
            "                                                                 \n",
            " conv_pw_6 (Conv2D)          (None, 14, 14, 512)       131072    \n",
            "                                                                 \n",
            " conv_pw_6_bn (BatchNormaliz  (None, 14, 14, 512)      2048      \n",
            " ation)                                                          \n",
            "                                                                 \n",
            " conv_pw_6_relu (ReLU)       (None, 14, 14, 512)       0         \n",
            "                                                                 \n",
            " conv_dw_7 (DepthwiseConv2D)  (None, 14, 14, 512)      4608      \n",
            "                                                                 \n",
            " conv_dw_7_bn (BatchNormaliz  (None, 14, 14, 512)      2048      \n",
            " ation)                                                          \n",
            "                                                                 \n",
            " conv_dw_7_relu (ReLU)       (None, 14, 14, 512)       0         \n",
            "                                                                 \n",
            " conv_pw_7 (Conv2D)          (None, 14, 14, 512)       262144    \n",
            "                                                                 \n",
            " conv_pw_7_bn (BatchNormaliz  (None, 14, 14, 512)      2048      \n",
            " ation)                                                          \n",
            "                                                                 \n",
            " conv_pw_7_relu (ReLU)       (None, 14, 14, 512)       0         \n",
            "                                                                 \n",
            " conv_dw_8 (DepthwiseConv2D)  (None, 14, 14, 512)      4608      \n",
            "                                                                 \n",
            " conv_dw_8_bn (BatchNormaliz  (None, 14, 14, 512)      2048      \n",
            " ation)                                                          \n",
            "                                                                 \n",
            " conv_dw_8_relu (ReLU)       (None, 14, 14, 512)       0         \n",
            "                                                                 \n",
            " conv_pw_8 (Conv2D)          (None, 14, 14, 512)       262144    \n",
            "                                                                 \n",
            " conv_pw_8_bn (BatchNormaliz  (None, 14, 14, 512)      2048      \n",
            " ation)                                                          \n",
            "                                                                 \n",
            " conv_pw_8_relu (ReLU)       (None, 14, 14, 512)       0         \n",
            "                                                                 \n",
            " conv_dw_9 (DepthwiseConv2D)  (None, 14, 14, 512)      4608      \n",
            "                                                                 \n",
            " conv_dw_9_bn (BatchNormaliz  (None, 14, 14, 512)      2048      \n",
            " ation)                                                          \n",
            "                                                                 \n",
            " conv_dw_9_relu (ReLU)       (None, 14, 14, 512)       0         \n",
            "                                                                 \n",
            " conv_pw_9 (Conv2D)          (None, 14, 14, 512)       262144    \n",
            "                                                                 \n",
            " conv_pw_9_bn (BatchNormaliz  (None, 14, 14, 512)      2048      \n",
            " ation)                                                          \n",
            "                                                                 \n",
            " conv_pw_9_relu (ReLU)       (None, 14, 14, 512)       0         \n",
            "                                                                 \n",
            " conv_dw_10 (DepthwiseConv2D  (None, 14, 14, 512)      4608      \n",
            " )                                                               \n",
            "                                                                 \n",
            " conv_dw_10_bn (BatchNormali  (None, 14, 14, 512)      2048      \n",
            " zation)                                                         \n",
            "                                                                 \n",
            " conv_dw_10_relu (ReLU)      (None, 14, 14, 512)       0         \n",
            "                                                                 \n",
            " conv_pw_10 (Conv2D)         (None, 14, 14, 512)       262144    \n",
            "                                                                 \n",
            " conv_pw_10_bn (BatchNormali  (None, 14, 14, 512)      2048      \n",
            " zation)                                                         \n",
            "                                                                 \n",
            " conv_pw_10_relu (ReLU)      (None, 14, 14, 512)       0         \n",
            "                                                                 \n",
            " conv_dw_11 (DepthwiseConv2D  (None, 14, 14, 512)      4608      \n",
            " )                                                               \n",
            "                                                                 \n",
            " conv_dw_11_bn (BatchNormali  (None, 14, 14, 512)      2048      \n",
            " zation)                                                         \n",
            "                                                                 \n",
            " conv_dw_11_relu (ReLU)      (None, 14, 14, 512)       0         \n",
            "                                                                 \n",
            " conv_pw_11 (Conv2D)         (None, 14, 14, 512)       262144    \n",
            "                                                                 \n",
            " conv_pw_11_bn (BatchNormali  (None, 14, 14, 512)      2048      \n",
            " zation)                                                         \n",
            "                                                                 \n",
            " conv_pw_11_relu (ReLU)      (None, 14, 14, 512)       0         \n",
            "                                                                 \n",
            " conv_pad_12 (ZeroPadding2D)  (None, 15, 15, 512)      0         \n",
            "                                                                 \n",
            " conv_dw_12 (DepthwiseConv2D  (None, 7, 7, 512)        4608      \n",
            " )                                                               \n",
            "                                                                 \n",
            " conv_dw_12_bn (BatchNormali  (None, 7, 7, 512)        2048      \n",
            " zation)                                                         \n",
            "                                                                 \n",
            " conv_dw_12_relu (ReLU)      (None, 7, 7, 512)         0         \n",
            "                                                                 \n",
            " conv_pw_12 (Conv2D)         (None, 7, 7, 1024)        524288    \n",
            "                                                                 \n",
            " conv_pw_12_bn (BatchNormali  (None, 7, 7, 1024)       4096      \n",
            " zation)                                                         \n",
            "                                                                 \n",
            " conv_pw_12_relu (ReLU)      (None, 7, 7, 1024)        0         \n",
            "                                                                 \n",
            " conv_dw_13 (DepthwiseConv2D  (None, 7, 7, 1024)       9216      \n",
            " )                                                               \n",
            "                                                                 \n",
            " conv_dw_13_bn (BatchNormali  (None, 7, 7, 1024)       4096      \n",
            " zation)                                                         \n",
            "                                                                 \n",
            " conv_dw_13_relu (ReLU)      (None, 7, 7, 1024)        0         \n",
            "                                                                 \n",
            " conv_pw_13 (Conv2D)         (None, 7, 7, 1024)        1048576   \n",
            "                                                                 \n",
            " conv_pw_13_bn (BatchNormali  (None, 7, 7, 1024)       4096      \n",
            " zation)                                                         \n",
            "                                                                 \n",
            " conv_pw_13_relu (ReLU)      (None, 7, 7, 1024)        0         \n",
            "                                                                 \n",
            " global_average_pooling2d (G  (None, 1024)             0         \n",
            " lobalAveragePooling2D)                                          \n",
            "                                                                 \n",
            " dropout (Dropout)           (None, 1024)              0         \n",
            "                                                                 \n",
            " dense (Dense)               (None, 1)                 1025      \n",
            "                                                                 \n",
            "=================================================================\n",
            "Total params: 3,229,889\n",
            "Trainable params: 3,208,001\n",
            "Non-trainable params: 21,888\n",
            "_________________________________________________________________\n",
            "None\n"
          ]
        }
      ],
      "source": [
        "x = base_model.output\n",
        "x = GlobalAveragePooling2D()(x)\n",
        "x = Dropout(0.5)(x)\n",
        "x = Dense(1, activation='sigmoid')(x)\n",
        "model = Model(inputs=base_model.input, outputs=x)\n",
        "print(model.summary())"
      ],
      "metadata": {
        "id": "zkvVWbxDkzkl",
        "outputId": "8c8331ba-9797-4cd3-c68b-dc2367442b69",
        "colab": {
          "base_uri": "https://localhost:8080/"
        }
      }
    },
    {
      "cell_type": "code",
      "execution_count": 56,
      "outputs": [],
      "source": [
        "from tensorflow.keras.callbacks import ModelCheckpoint"
      ],
      "metadata": {
        "id": "SDE_Veo3kzkl"
      }
    },
    {
      "cell_type": "code",
      "execution_count": 57,
      "outputs": [],
      "source": [
        "checkpoint = ModelCheckpoint(filepath='best_uniform_model.h5',\n",
        "                             monitor='val_loss',\n",
        "                             verbose=1,\n",
        "                             save_best_only=True,\n",
        "                             mode='min')"
      ],
      "metadata": {
        "id": "rNAmwu4Ykzkl"
      }
    },
    {
      "cell_type": "code",
      "execution_count": 58,
      "outputs": [],
      "source": [
        "model.compile(loss='binary_crossentropy',\n",
        "              optimizer=Adam(learning_rate=0.0001),\n",
        "              metrics=['accuracy'])"
      ],
      "metadata": {
        "id": "zpVdQtOekzkl"
      }
    },
    {
      "cell_type": "code",
      "execution_count": 59,
      "outputs": [
        {
          "output_type": "stream",
          "name": "stdout",
          "text": [
            "Epoch 1/50\n",
            "33/33 [==============================] - ETA: 0s - loss: 0.2247 - accuracy: 0.9124\n",
            "Epoch 1: val_loss improved from inf to 7.42266, saving model to best_helmet_model.h5\n",
            "33/33 [==============================] - 29s 172ms/step - loss: 0.2247 - accuracy: 0.9124 - val_loss: 7.4227 - val_accuracy: 0.0000e+00\n",
            "Epoch 2/50\n",
            "33/33 [==============================] - ETA: 0s - loss: 0.0080 - accuracy: 1.0000\n",
            "Epoch 2: val_loss improved from 7.42266 to 5.55959, saving model to best_helmet_model.h5\n",
            "33/33 [==============================] - 4s 123ms/step - loss: 0.0080 - accuracy: 1.0000 - val_loss: 5.5596 - val_accuracy: 0.0000e+00\n",
            "Epoch 3/50\n",
            "33/33 [==============================] - ETA: 0s - loss: 0.0039 - accuracy: 1.0000\n",
            "Epoch 3: val_loss improved from 5.55959 to 2.71033, saving model to best_helmet_model.h5\n",
            "33/33 [==============================] - 4s 130ms/step - loss: 0.0039 - accuracy: 1.0000 - val_loss: 2.7103 - val_accuracy: 0.0000e+00\n",
            "Epoch 4/50\n",
            "33/33 [==============================] - ETA: 0s - loss: 0.0026 - accuracy: 1.0000\n",
            "Epoch 4: val_loss improved from 2.71033 to 0.76259, saving model to best_helmet_model.h5\n",
            "33/33 [==============================] - 4s 123ms/step - loss: 0.0026 - accuracy: 1.0000 - val_loss: 0.7626 - val_accuracy: 0.3954\n",
            "Epoch 5/50\n",
            "33/33 [==============================] - ETA: 0s - loss: 0.0020 - accuracy: 1.0000\n",
            "Epoch 5: val_loss improved from 0.76259 to 0.14727, saving model to best_helmet_model.h5\n",
            "33/33 [==============================] - 4s 124ms/step - loss: 0.0020 - accuracy: 1.0000 - val_loss: 0.1473 - val_accuracy: 1.0000\n",
            "Epoch 6/50\n",
            "33/33 [==============================] - ETA: 0s - loss: 0.0015 - accuracy: 1.0000\n",
            "Epoch 6: val_loss improved from 0.14727 to 0.03307, saving model to best_helmet_model.h5\n",
            "33/33 [==============================] - 4s 130ms/step - loss: 0.0015 - accuracy: 1.0000 - val_loss: 0.0331 - val_accuracy: 1.0000\n",
            "Epoch 7/50\n",
            "33/33 [==============================] - ETA: 0s - loss: 0.0013 - accuracy: 1.0000\n",
            "Epoch 7: val_loss improved from 0.03307 to 0.01060, saving model to best_helmet_model.h5\n",
            "33/33 [==============================] - 4s 125ms/step - loss: 0.0013 - accuracy: 1.0000 - val_loss: 0.0106 - val_accuracy: 1.0000\n",
            "Epoch 8/50\n",
            "33/33 [==============================] - ETA: 0s - loss: 9.8736e-04 - accuracy: 1.0000\n",
            "Epoch 8: val_loss improved from 0.01060 to 0.00482, saving model to best_helmet_model.h5\n",
            "33/33 [==============================] - 4s 124ms/step - loss: 9.8736e-04 - accuracy: 1.0000 - val_loss: 0.0048 - val_accuracy: 1.0000\n",
            "Epoch 9/50\n",
            "33/33 [==============================] - ETA: 0s - loss: 8.7255e-04 - accuracy: 1.0000\n",
            "Epoch 9: val_loss improved from 0.00482 to 0.00262, saving model to best_helmet_model.h5\n",
            "33/33 [==============================] - 4s 129ms/step - loss: 8.7255e-04 - accuracy: 1.0000 - val_loss: 0.0026 - val_accuracy: 1.0000\n",
            "Epoch 10/50\n",
            "33/33 [==============================] - ETA: 0s - loss: 7.6574e-04 - accuracy: 1.0000\n",
            "Epoch 10: val_loss improved from 0.00262 to 0.00165, saving model to best_helmet_model.h5\n",
            "33/33 [==============================] - 4s 126ms/step - loss: 7.6574e-04 - accuracy: 1.0000 - val_loss: 0.0016 - val_accuracy: 1.0000\n",
            "Epoch 11/50\n",
            "33/33 [==============================] - ETA: 0s - loss: 6.0900e-04 - accuracy: 1.0000\n",
            "Epoch 11: val_loss improved from 0.00165 to 0.00104, saving model to best_helmet_model.h5\n",
            "33/33 [==============================] - 4s 125ms/step - loss: 6.0900e-04 - accuracy: 1.0000 - val_loss: 0.0010 - val_accuracy: 1.0000\n",
            "Epoch 12/50\n",
            "33/33 [==============================] - ETA: 0s - loss: 5.8853e-04 - accuracy: 1.0000\n",
            "Epoch 12: val_loss improved from 0.00104 to 0.00072, saving model to best_helmet_model.h5\n",
            "33/33 [==============================] - 4s 129ms/step - loss: 5.8853e-04 - accuracy: 1.0000 - val_loss: 7.2149e-04 - val_accuracy: 1.0000\n",
            "Epoch 13/50\n",
            "33/33 [==============================] - ETA: 0s - loss: 4.9421e-04 - accuracy: 1.0000\n",
            "Epoch 13: val_loss improved from 0.00072 to 0.00055, saving model to best_helmet_model.h5\n",
            "33/33 [==============================] - 4s 129ms/step - loss: 4.9421e-04 - accuracy: 1.0000 - val_loss: 5.5194e-04 - val_accuracy: 1.0000\n",
            "Epoch 14/50\n",
            "33/33 [==============================] - ETA: 0s - loss: 4.6312e-04 - accuracy: 1.0000\n",
            "Epoch 14: val_loss improved from 0.00055 to 0.00045, saving model to best_helmet_model.h5\n",
            "33/33 [==============================] - 4s 126ms/step - loss: 4.6312e-04 - accuracy: 1.0000 - val_loss: 4.5006e-04 - val_accuracy: 1.0000\n",
            "Epoch 15/50\n",
            "33/33 [==============================] - ETA: 0s - loss: 3.7868e-04 - accuracy: 1.0000\n",
            "Epoch 15: val_loss improved from 0.00045 to 0.00036, saving model to best_helmet_model.h5\n",
            "33/33 [==============================] - 4s 127ms/step - loss: 3.7868e-04 - accuracy: 1.0000 - val_loss: 3.6380e-04 - val_accuracy: 1.0000\n",
            "Epoch 16/50\n",
            "33/33 [==============================] - ETA: 0s - loss: 3.6830e-04 - accuracy: 1.0000\n",
            "Epoch 16: val_loss improved from 0.00036 to 0.00031, saving model to best_helmet_model.h5\n",
            "33/33 [==============================] - 4s 131ms/step - loss: 3.6830e-04 - accuracy: 1.0000 - val_loss: 3.0848e-04 - val_accuracy: 1.0000\n",
            "Epoch 17/50\n",
            "33/33 [==============================] - ETA: 0s - loss: 3.3473e-04 - accuracy: 1.0000\n",
            "Epoch 17: val_loss improved from 0.00031 to 0.00027, saving model to best_helmet_model.h5\n",
            "33/33 [==============================] - 4s 129ms/step - loss: 3.3473e-04 - accuracy: 1.0000 - val_loss: 2.6786e-04 - val_accuracy: 1.0000\n",
            "Epoch 18/50\n",
            "33/33 [==============================] - ETA: 0s - loss: 2.9694e-04 - accuracy: 1.0000\n",
            "Epoch 18: val_loss improved from 0.00027 to 0.00023, saving model to best_helmet_model.h5\n",
            "33/33 [==============================] - 4s 127ms/step - loss: 2.9694e-04 - accuracy: 1.0000 - val_loss: 2.2996e-04 - val_accuracy: 1.0000\n",
            "Epoch 19/50\n",
            "33/33 [==============================] - ETA: 0s - loss: 2.8608e-04 - accuracy: 1.0000\n",
            "Epoch 19: val_loss improved from 0.00023 to 0.00021, saving model to best_helmet_model.h5\n",
            "33/33 [==============================] - 4s 131ms/step - loss: 2.8608e-04 - accuracy: 1.0000 - val_loss: 2.0989e-04 - val_accuracy: 1.0000\n",
            "Epoch 20/50\n",
            "33/33 [==============================] - ETA: 0s - loss: 2.5521e-04 - accuracy: 1.0000\n",
            "Epoch 20: val_loss improved from 0.00021 to 0.00019, saving model to best_helmet_model.h5\n",
            "33/33 [==============================] - 4s 127ms/step - loss: 2.5521e-04 - accuracy: 1.0000 - val_loss: 1.9354e-04 - val_accuracy: 1.0000\n",
            "Epoch 21/50\n",
            "33/33 [==============================] - ETA: 0s - loss: 2.3485e-04 - accuracy: 1.0000\n",
            "Epoch 21: val_loss improved from 0.00019 to 0.00017, saving model to best_helmet_model.h5\n",
            "33/33 [==============================] - 4s 126ms/step - loss: 2.3485e-04 - accuracy: 1.0000 - val_loss: 1.7246e-04 - val_accuracy: 1.0000\n",
            "Epoch 22/50\n",
            "33/33 [==============================] - ETA: 0s - loss: 2.1314e-04 - accuracy: 1.0000\n",
            "Epoch 22: val_loss improved from 0.00017 to 0.00015, saving model to best_helmet_model.h5\n",
            "33/33 [==============================] - 4s 131ms/step - loss: 2.1314e-04 - accuracy: 1.0000 - val_loss: 1.5328e-04 - val_accuracy: 1.0000\n",
            "Epoch 23/50\n",
            "33/33 [==============================] - ETA: 0s - loss: 2.0261e-04 - accuracy: 1.0000\n",
            "Epoch 23: val_loss improved from 0.00015 to 0.00014, saving model to best_helmet_model.h5\n",
            "33/33 [==============================] - 4s 125ms/step - loss: 2.0261e-04 - accuracy: 1.0000 - val_loss: 1.4296e-04 - val_accuracy: 1.0000\n",
            "Epoch 24/50\n",
            "33/33 [==============================] - ETA: 0s - loss: 1.8249e-04 - accuracy: 1.0000\n",
            "Epoch 24: val_loss improved from 0.00014 to 0.00013, saving model to best_helmet_model.h5\n",
            "33/33 [==============================] - 4s 126ms/step - loss: 1.8249e-04 - accuracy: 1.0000 - val_loss: 1.3062e-04 - val_accuracy: 1.0000\n",
            "Epoch 25/50\n",
            "33/33 [==============================] - ETA: 0s - loss: 1.7204e-04 - accuracy: 1.0000\n",
            "Epoch 25: val_loss improved from 0.00013 to 0.00012, saving model to best_helmet_model.h5\n",
            "33/33 [==============================] - 4s 131ms/step - loss: 1.7204e-04 - accuracy: 1.0000 - val_loss: 1.2046e-04 - val_accuracy: 1.0000\n",
            "Epoch 26/50\n",
            "33/33 [==============================] - ETA: 0s - loss: 1.5858e-04 - accuracy: 1.0000\n",
            "Epoch 26: val_loss improved from 0.00012 to 0.00011, saving model to best_helmet_model.h5\n",
            "33/33 [==============================] - 4s 126ms/step - loss: 1.5858e-04 - accuracy: 1.0000 - val_loss: 1.1127e-04 - val_accuracy: 1.0000\n",
            "Epoch 27/50\n",
            "33/33 [==============================] - ETA: 0s - loss: 1.8231e-04 - accuracy: 1.0000\n",
            "Epoch 27: val_loss improved from 0.00011 to 0.00010, saving model to best_helmet_model.h5\n",
            "33/33 [==============================] - 4s 125ms/step - loss: 1.8231e-04 - accuracy: 1.0000 - val_loss: 1.0380e-04 - val_accuracy: 1.0000\n",
            "Epoch 28/50\n",
            "33/33 [==============================] - ETA: 0s - loss: 1.5160e-04 - accuracy: 1.0000\n",
            "Epoch 28: val_loss improved from 0.00010 to 0.00010, saving model to best_helmet_model.h5\n",
            "33/33 [==============================] - 4s 127ms/step - loss: 1.5160e-04 - accuracy: 1.0000 - val_loss: 9.6818e-05 - val_accuracy: 1.0000\n",
            "Epoch 29/50\n",
            "33/33 [==============================] - ETA: 0s - loss: 1.5281e-04 - accuracy: 1.0000\n",
            "Epoch 29: val_loss improved from 0.00010 to 0.00009, saving model to best_helmet_model.h5\n",
            "33/33 [==============================] - 4s 128ms/step - loss: 1.5281e-04 - accuracy: 1.0000 - val_loss: 9.0643e-05 - val_accuracy: 1.0000\n",
            "Epoch 30/50\n",
            "33/33 [==============================] - ETA: 0s - loss: 1.2889e-04 - accuracy: 1.0000\n",
            "Epoch 30: val_loss improved from 0.00009 to 0.00008, saving model to best_helmet_model.h5\n",
            "33/33 [==============================] - 4s 126ms/step - loss: 1.2889e-04 - accuracy: 1.0000 - val_loss: 8.4525e-05 - val_accuracy: 1.0000\n",
            "Epoch 31/50\n",
            "33/33 [==============================] - ETA: 0s - loss: 1.2419e-04 - accuracy: 1.0000\n",
            "Epoch 31: val_loss improved from 0.00008 to 0.00008, saving model to best_helmet_model.h5\n",
            "33/33 [==============================] - 4s 125ms/step - loss: 1.2419e-04 - accuracy: 1.0000 - val_loss: 7.9609e-05 - val_accuracy: 1.0000\n",
            "Epoch 32/50\n",
            "33/33 [==============================] - ETA: 0s - loss: 1.1568e-04 - accuracy: 1.0000\n",
            "Epoch 32: val_loss improved from 0.00008 to 0.00007, saving model to best_helmet_model.h5\n",
            "33/33 [==============================] - 4s 130ms/step - loss: 1.1568e-04 - accuracy: 1.0000 - val_loss: 7.4915e-05 - val_accuracy: 1.0000\n",
            "Epoch 33/50\n",
            "33/33 [==============================] - ETA: 0s - loss: 1.0429e-04 - accuracy: 1.0000\n",
            "Epoch 33: val_loss improved from 0.00007 to 0.00007, saving model to best_helmet_model.h5\n",
            "33/33 [==============================] - 4s 125ms/step - loss: 1.0429e-04 - accuracy: 1.0000 - val_loss: 7.0743e-05 - val_accuracy: 1.0000\n",
            "Epoch 34/50\n",
            "33/33 [==============================] - ETA: 0s - loss: 1.0787e-04 - accuracy: 1.0000\n",
            "Epoch 34: val_loss improved from 0.00007 to 0.00007, saving model to best_helmet_model.h5\n",
            "33/33 [==============================] - 4s 125ms/step - loss: 1.0787e-04 - accuracy: 1.0000 - val_loss: 6.6096e-05 - val_accuracy: 1.0000\n",
            "Epoch 35/50\n",
            "33/33 [==============================] - ETA: 0s - loss: 9.9127e-05 - accuracy: 1.0000\n",
            "Epoch 35: val_loss improved from 0.00007 to 0.00006, saving model to best_helmet_model.h5\n",
            "33/33 [==============================] - 4s 131ms/step - loss: 9.9127e-05 - accuracy: 1.0000 - val_loss: 6.3069e-05 - val_accuracy: 1.0000\n",
            "Epoch 36/50\n",
            "33/33 [==============================] - ETA: 0s - loss: 9.9404e-05 - accuracy: 1.0000\n",
            "Epoch 36: val_loss improved from 0.00006 to 0.00006, saving model to best_helmet_model.h5\n",
            "33/33 [==============================] - 4s 127ms/step - loss: 9.9404e-05 - accuracy: 1.0000 - val_loss: 6.0190e-05 - val_accuracy: 1.0000\n",
            "Epoch 37/50\n",
            "33/33 [==============================] - ETA: 0s - loss: 9.5054e-05 - accuracy: 1.0000\n",
            "Epoch 37: val_loss improved from 0.00006 to 0.00006, saving model to best_helmet_model.h5\n",
            "33/33 [==============================] - 4s 126ms/step - loss: 9.5054e-05 - accuracy: 1.0000 - val_loss: 5.7891e-05 - val_accuracy: 1.0000\n",
            "Epoch 38/50\n",
            "33/33 [==============================] - ETA: 0s - loss: 7.9457e-05 - accuracy: 1.0000\n",
            "Epoch 38: val_loss improved from 0.00006 to 0.00005, saving model to best_helmet_model.h5\n",
            "33/33 [==============================] - 4s 132ms/step - loss: 7.9457e-05 - accuracy: 1.0000 - val_loss: 5.4815e-05 - val_accuracy: 1.0000\n",
            "Epoch 39/50\n",
            "33/33 [==============================] - ETA: 0s - loss: 7.8033e-05 - accuracy: 1.0000\n",
            "Epoch 39: val_loss improved from 0.00005 to 0.00005, saving model to best_helmet_model.h5\n",
            "33/33 [==============================] - 4s 127ms/step - loss: 7.8033e-05 - accuracy: 1.0000 - val_loss: 5.1976e-05 - val_accuracy: 1.0000\n",
            "Epoch 40/50\n",
            "33/33 [==============================] - ETA: 0s - loss: 8.4275e-05 - accuracy: 1.0000\n",
            "Epoch 40: val_loss improved from 0.00005 to 0.00005, saving model to best_helmet_model.h5\n",
            "33/33 [==============================] - 4s 127ms/step - loss: 8.4275e-05 - accuracy: 1.0000 - val_loss: 4.9375e-05 - val_accuracy: 1.0000\n",
            "Epoch 41/50\n",
            "33/33 [==============================] - ETA: 0s - loss: 7.7523e-05 - accuracy: 1.0000\n",
            "Epoch 41: val_loss improved from 0.00005 to 0.00005, saving model to best_helmet_model.h5\n",
            "33/33 [==============================] - 4s 132ms/step - loss: 7.7523e-05 - accuracy: 1.0000 - val_loss: 4.7689e-05 - val_accuracy: 1.0000\n",
            "Epoch 42/50\n",
            "33/33 [==============================] - ETA: 0s - loss: 7.0533e-05 - accuracy: 1.0000\n",
            "Epoch 42: val_loss improved from 0.00005 to 0.00005, saving model to best_helmet_model.h5\n",
            "33/33 [==============================] - 4s 127ms/step - loss: 7.0533e-05 - accuracy: 1.0000 - val_loss: 4.5880e-05 - val_accuracy: 1.0000\n",
            "Epoch 43/50\n",
            "33/33 [==============================] - ETA: 0s - loss: 7.3509e-05 - accuracy: 1.0000\n",
            "Epoch 43: val_loss improved from 0.00005 to 0.00004, saving model to best_helmet_model.h5\n",
            "33/33 [==============================] - 4s 125ms/step - loss: 7.3509e-05 - accuracy: 1.0000 - val_loss: 4.4155e-05 - val_accuracy: 1.0000\n",
            "Epoch 44/50\n",
            "33/33 [==============================] - ETA: 0s - loss: 7.1723e-05 - accuracy: 1.0000\n",
            "Epoch 44: val_loss improved from 0.00004 to 0.00004, saving model to best_helmet_model.h5\n",
            "33/33 [==============================] - 4s 130ms/step - loss: 7.1723e-05 - accuracy: 1.0000 - val_loss: 4.2387e-05 - val_accuracy: 1.0000\n",
            "Epoch 45/50\n",
            "33/33 [==============================] - ETA: 0s - loss: 8.3069e-05 - accuracy: 1.0000\n",
            "Epoch 45: val_loss improved from 0.00004 to 0.00004, saving model to best_helmet_model.h5\n",
            "33/33 [==============================] - 4s 127ms/step - loss: 8.3069e-05 - accuracy: 1.0000 - val_loss: 4.0530e-05 - val_accuracy: 1.0000\n",
            "Epoch 46/50\n",
            "33/33 [==============================] - ETA: 0s - loss: 5.9319e-05 - accuracy: 1.0000\n",
            "Epoch 46: val_loss improved from 0.00004 to 0.00004, saving model to best_helmet_model.h5\n",
            "33/33 [==============================] - 4s 126ms/step - loss: 5.9319e-05 - accuracy: 1.0000 - val_loss: 3.8384e-05 - val_accuracy: 1.0000\n",
            "Epoch 47/50\n",
            "33/33 [==============================] - ETA: 0s - loss: 5.7495e-05 - accuracy: 1.0000\n",
            "Epoch 47: val_loss improved from 0.00004 to 0.00004, saving model to best_helmet_model.h5\n",
            "33/33 [==============================] - 4s 127ms/step - loss: 5.7495e-05 - accuracy: 1.0000 - val_loss: 3.6951e-05 - val_accuracy: 1.0000\n",
            "Epoch 48/50\n",
            "33/33 [==============================] - ETA: 0s - loss: 5.2867e-05 - accuracy: 1.0000\n",
            "Epoch 48: val_loss improved from 0.00004 to 0.00004, saving model to best_helmet_model.h5\n",
            "33/33 [==============================] - 4s 129ms/step - loss: 5.2867e-05 - accuracy: 1.0000 - val_loss: 3.5499e-05 - val_accuracy: 1.0000\n",
            "Epoch 49/50\n",
            "33/33 [==============================] - ETA: 0s - loss: 5.7383e-05 - accuracy: 1.0000\n",
            "Epoch 49: val_loss improved from 0.00004 to 0.00003, saving model to best_helmet_model.h5\n",
            "33/33 [==============================] - 4s 127ms/step - loss: 5.7383e-05 - accuracy: 1.0000 - val_loss: 3.4318e-05 - val_accuracy: 1.0000\n",
            "Epoch 50/50\n",
            "33/33 [==============================] - ETA: 0s - loss: 5.6601e-05 - accuracy: 1.0000\n",
            "Epoch 50: val_loss improved from 0.00003 to 0.00003, saving model to best_helmet_model.h5\n",
            "33/33 [==============================] - 4s 127ms/step - loss: 5.6601e-05 - accuracy: 1.0000 - val_loss: 3.3149e-05 - val_accuracy: 1.0000\n"
          ]
        }
      ],
      "source": [
        "log = model.fit(x_train, y_train,\n",
        "                  validation_split=0.2,\n",
        "                  epochs = 50,\n",
        "                  batch_size = 32,\n",
        "                  verbose=1,\n",
        "                  callbacks=[checkpoint])"
      ],
      "metadata": {
        "id": "NqYpRhtWkzkl",
        "outputId": "e5a77426-fd61-48eb-d091-c365b949f7a8",
        "colab": {
          "base_uri": "https://localhost:8080/"
        }
      }
    },
    {
      "cell_type": "code",
      "execution_count": null,
      "outputs": [],
      "source": [],
      "metadata": {
        "id": "W4qzmPgLkzkm"
      }
    },
    {
      "cell_type": "code",
      "execution_count": 60,
      "outputs": [
        {
          "output_type": "stream",
          "name": "stdout",
          "text": [
            "Epoch 1/10\n",
            "33/33 [==============================] - ETA: 0s - loss: 5.0980e-05 - accuracy: 1.0000\n",
            "Epoch 1: val_loss improved from inf to 0.00003, saving model to best_helmet_model.h5\n",
            "33/33 [==============================] - 4s 129ms/step - loss: 5.0980e-05 - accuracy: 1.0000 - val_loss: 3.1788e-05 - val_accuracy: 1.0000 - lr: 1.0000e-04\n",
            "Epoch 2/10\n",
            "33/33 [==============================] - ETA: 0s - loss: 5.3615e-05 - accuracy: 1.0000\n",
            "Epoch 2: val_loss improved from 0.00003 to 0.00003, saving model to best_helmet_model.h5\n",
            "33/33 [==============================] - 4s 125ms/step - loss: 5.3615e-05 - accuracy: 1.0000 - val_loss: 3.0334e-05 - val_accuracy: 1.0000 - lr: 1.0000e-04\n",
            "Epoch 3/10\n",
            "33/33 [==============================] - ETA: 0s - loss: 5.2238e-05 - accuracy: 1.0000\n",
            "Epoch 3: val_loss improved from 0.00003 to 0.00003, saving model to best_helmet_model.h5\n",
            "33/33 [==============================] - 4s 129ms/step - loss: 5.2238e-05 - accuracy: 1.0000 - val_loss: 2.9224e-05 - val_accuracy: 1.0000 - lr: 1.0000e-04\n",
            "Epoch 4/10\n",
            "33/33 [==============================] - ETA: 0s - loss: 4.4945e-05 - accuracy: 1.0000\n",
            "Epoch 4: val_loss improved from 0.00003 to 0.00003, saving model to best_helmet_model.h5\n",
            "33/33 [==============================] - 4s 126ms/step - loss: 4.4945e-05 - accuracy: 1.0000 - val_loss: 2.8317e-05 - val_accuracy: 1.0000 - lr: 1.0000e-04\n",
            "Epoch 5/10\n",
            "33/33 [==============================] - ETA: 0s - loss: 4.1612e-05 - accuracy: 1.0000\n",
            "Epoch 5: val_loss improved from 0.00003 to 0.00003, saving model to best_helmet_model.h5\n",
            "33/33 [==============================] - 4s 127ms/step - loss: 4.1612e-05 - accuracy: 1.0000 - val_loss: 2.7342e-05 - val_accuracy: 1.0000 - lr: 1.0000e-04\n",
            "Epoch 6/10\n",
            "33/33 [==============================] - ETA: 0s - loss: 4.7358e-05 - accuracy: 1.0000\n",
            "Epoch 6: val_loss improved from 0.00003 to 0.00003, saving model to best_helmet_model.h5\n",
            "33/33 [==============================] - 4s 135ms/step - loss: 4.7358e-05 - accuracy: 1.0000 - val_loss: 2.6350e-05 - val_accuracy: 1.0000 - lr: 1.0000e-04\n",
            "Epoch 7/10\n",
            "33/33 [==============================] - ETA: 0s - loss: 4.3539e-05 - accuracy: 1.0000\n",
            "Epoch 7: val_loss improved from 0.00003 to 0.00003, saving model to best_helmet_model.h5\n",
            "33/33 [==============================] - 4s 128ms/step - loss: 4.3539e-05 - accuracy: 1.0000 - val_loss: 2.5556e-05 - val_accuracy: 1.0000 - lr: 1.0000e-04\n",
            "Epoch 8/10\n",
            "33/33 [==============================] - ETA: 0s - loss: 4.2253e-05 - accuracy: 1.0000\n",
            "Epoch 8: val_loss improved from 0.00003 to 0.00002, saving model to best_helmet_model.h5\n",
            "33/33 [==============================] - 4s 129ms/step - loss: 4.2253e-05 - accuracy: 1.0000 - val_loss: 2.4654e-05 - val_accuracy: 1.0000 - lr: 1.0000e-04\n",
            "Epoch 9/10\n",
            "33/33 [==============================] - ETA: 0s - loss: 3.8837e-05 - accuracy: 1.0000\n",
            "Epoch 9: val_loss improved from 0.00002 to 0.00002, saving model to best_helmet_model.h5\n",
            "33/33 [==============================] - 4s 136ms/step - loss: 3.8837e-05 - accuracy: 1.0000 - val_loss: 2.3980e-05 - val_accuracy: 1.0000 - lr: 1.0000e-04\n",
            "Epoch 10/10\n",
            "33/33 [==============================] - ETA: 0s - loss: 4.1974e-05 - accuracy: 1.0000\n",
            "Epoch 10: val_loss improved from 0.00002 to 0.00002, saving model to best_helmet_model.h5\n",
            "33/33 [==============================] - 4s 129ms/step - loss: 4.1974e-05 - accuracy: 1.0000 - val_loss: 2.3230e-05 - val_accuracy: 1.0000 - lr: 1.0000e-04\n"
          ]
        }
      ],
      "source": [
        "\n",
        "from keras.callbacks import ModelCheckpoint\n",
        "\n",
        "from keras.callbacks import EarlyStopping, ReduceLROnPlateau\n",
        "\n",
        "from keras.callbacks import LearningRateScheduler\n",
        "\n",
        "# Создание callback функции остановки обучения\n",
        "early_stop = EarlyStopping(monitor='val_loss', patience=7, verbose=1, mode='min', restore_best_weights=True)\n",
        "\n",
        "# Создание callback функции уменьшения learning rate\n",
        "# reduce_lr = ReduceLROnPlateau(monitor='val_loss', factor=0.2, patience=3, min_lr=0.0001)\n",
        "\n",
        "def lr_schedule(epoch):\n",
        "    lr = 1e-4\n",
        "    if epoch > 20:\n",
        "        lr *= 0.1\n",
        "    elif epoch > 15:\n",
        "        lr *= 0.5\n",
        "    return lr\n",
        "\n",
        "lr_scheduler = LearningRateScheduler(lr_schedule)\n",
        "\n",
        "checkpoint = ModelCheckpoint(filepath='best_uniform_model.h5',\n",
        "                             monitor='val_loss',\n",
        "                             verbose=1,\n",
        "                             save_best_only=True,\n",
        "                             mode='min')\n",
        "log = model.fit(x_train, y_train,\n",
        "          validation_split=0.2,\n",
        "          epochs=10,\n",
        "         callbacks=[early_stop, lr_scheduler, checkpoint])\n"
      ],
      "metadata": {
        "id": "8_0KFfZbkzkm",
        "outputId": "121f78b4-12ff-407a-bd67-6a5ac5625a04",
        "colab": {
          "base_uri": "https://localhost:8080/"
        }
      }
    },
    {
      "cell_type": "code",
      "execution_count": 61,
      "outputs": [],
      "source": [
        "# Рисование графиков\n",
        "import matplotlib.pyplot as plt\n",
        "\n",
        "def show_history(history):\n",
        "\n",
        "    # Отрисовка графика точности на обучающей выборке\n",
        "    plt.plot(history.history['accuracy'],\n",
        "             label='Доля верных ответов на обучающем наборе')\n",
        "\n",
        "    # Отрисовка графика точности на проверочной выборке\n",
        "    plt.plot(history.history['val_accuracy'],\n",
        "             label='Доля верных ответов на проверочном наборе')\n",
        "\n",
        "    # Отрисовка подписей осей\n",
        "    plt.xlabel('Эпоха обучения')\n",
        "    plt.ylabel('Доля верных ответов')\n",
        "\n",
        "    # Отрисовка легенды\n",
        "    plt.legend()\n",
        "\n",
        "    # Вывод графика\n",
        "    plt.show()"
      ],
      "metadata": {
        "id": "ezLojNRukzkm"
      }
    },
    {
      "cell_type": "code",
      "execution_count": 62,
      "outputs": [],
      "source": [
        "def show_error(history):\n",
        "    plt.plot(history.history['loss'],\n",
        "             label='Ошибка на обучающем наборе')\n",
        "\n",
        "    plt.plot(history.history['val_loss'],\n",
        "             label='Ошибка на проверочном наборе')\n",
        "\n",
        "    plt.xlabel('Эпоха обучения')\n",
        "    plt.ylabel('Ошибка')\n",
        "\n",
        "    plt.legend()\n",
        "\n",
        "    plt.show()"
      ],
      "metadata": {
        "id": "8AM3nMxRkzkm"
      }
    },
    {
      "cell_type": "code",
      "execution_count": 63,
      "outputs": [
        {
          "output_type": "display_data",
          "data": {
            "text/plain": [
              "<Figure size 432x288 with 1 Axes>"
            ],
            "image/png": "[encoded data removed]"
          },
          "metadata": {
            "needs_background": "light"
          }
        },
        {
          "output_type": "display_data",
          "data": {
            "text/plain": [
              "<Figure size 432x288 with 1 Axes>"
            ],
            "image/png": "[encoded data removed]"
          },
          "metadata": {
            "needs_background": "light"
          }
        }
      ],
      "source": [
        "show_history(log)\n",
        "show_error(log)"
      ],
      "metadata": {
        "id": "UN30Sdkxkzkm",
        "outputId": "14fb8ae5-beb8-45b0-ffa3-1a6d26965e06",
        "colab": {
          "base_uri": "https://localhost:8080/",
          "height": 552
        }
      }
    },
    {
      "cell_type": "code",
      "execution_count": 64,
      "outputs": [],
      "source": [
        "import tensorflow as tf\n",
        "model = tf.keras.models.load_model('best_uniform_model.h5')"
      ],
      "metadata": {
        "id": "NquPtI2Ukzkn"
      }
    },
    {
      "cell_type": "code",
      "execution_count": 65,
      "outputs": [
        {
          "output_type": "stream",
          "name": "stdout",
          "text": [
            "18/18 [==============================] - 2s 53ms/step - loss: 2.4483e-05 - accuracy: 1.0000\n",
            "Процент верных ответов на тестовых данных: 100.0 %\n"
          ]
        }
      ],
      "source": [
        "scores = model.evaluate(x_test, y_test, verbose=1)\n",
        "print('Процент верных ответов на тестовых данных:', round(scores[1],2) * 100, '%')"
      ],
      "metadata": {
        "id": "wv0bAoIfkzkn",
        "outputId": "92b9c513-24e4-47f9-fc7f-e5f5961fba5a",
        "colab": {
          "base_uri": "https://localhost:8080/"
        }
      }
    },
    {
      "cell_type": "code",
      "execution_count": null,
      "outputs": [],
      "source": [],
      "metadata": {
        "id": "HLcrSGklkzkn"
      }
    }
  ],
  "metadata": {
    "kernelspec": {
      "display_name": "Python 3",
      "language": "python",
      "name": "python3"
    },
    "language_info": {
      "codemirror_mode": {
        "name": "ipython",
        "version": 2
      },
      "file_extension": ".py",
      "mimetype": "text/x-python",
      "name": "python",
      "nbconvert_exporter": "python",
      "pygments_lexer": "ipython2",
      "version": "2.7.6"
    },
    "colab": {
      "provenance": []
    },
    "gpuClass": "standard",
    "accelerator": "GPU"
  },
  "nbformat": 4,
  "nbformat_minor": 0
}